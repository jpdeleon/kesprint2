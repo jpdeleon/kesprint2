{
 "cells": [
  {
   "cell_type": "raw",
   "metadata": {},
   "source": [
    "!mkdir epic1114/"
   ]
  },
  {
   "cell_type": "code",
   "execution_count": 2,
   "metadata": {
    "scrolled": true
   },
   "outputs": [
    {
     "data": {
      "text/html": [
       "<script>\n",
       "code_show=true; \n",
       "function code_toggle() {\n",
       " if (code_show){\n",
       " $('div.input').hide();\n",
       " } else {\n",
       " $('div.input').show();\n",
       " }\n",
       " code_show = !code_show\n",
       "} \n",
       "$( document ).ready(code_toggle);\n",
       "</script>\n",
       "<form action=\"javascript:code_toggle()\"><input type=\"submit\" value=\"Click here to toggle on/off the raw code.\"></form>"
      ],
      "text/plain": [
       "<IPython.core.display.HTML object>"
      ]
     },
     "execution_count": 2,
     "metadata": {},
     "output_type": "execute_result"
    }
   ],
   "source": [
    "from IPython.display import HTML\n",
    "\n",
    "HTML('''<script>\n",
    "code_show=true; \n",
    "function code_toggle() {\n",
    " if (code_show){\n",
    " $('div.input').hide();\n",
    " } else {\n",
    " $('div.input').show();\n",
    " }\n",
    " code_show = !code_show\n",
    "} \n",
    "$( document ).ready(code_toggle);\n",
    "</script>\n",
    "<form action=\"javascript:code_toggle()\"><input type=\"submit\" value=\"Click here to toggle on/off the raw code.\"></form>''')"
   ]
  },
  {
   "cell_type": "code",
   "execution_count": 1,
   "metadata": {},
   "outputs": [
    {
     "data": {
      "text/html": [
       "<style>\n",
       "body {\n",
       "    font-family: \"Times New Roman\";\n",
       "    font-size: 12pt;\n",
       "}\n",
       "</style>  \n"
      ],
      "text/plain": [
       "<IPython.core.display.HTML object>"
      ]
     },
     "metadata": {},
     "output_type": "display_data"
    }
   ],
   "source": [
    "%%html\n",
    "<style>\n",
    "body {\n",
    "    font-family: \"Times New Roman\";\n",
    "    font-size: 12pt;\n",
    "}\n",
    "</style>  "
   ]
  },
  {
   "cell_type": "code",
   "execution_count": 2,
   "metadata": {},
   "outputs": [
    {
     "data": {
      "text/html": [
       "<style>.container { width:80% !important; }</style>"
      ],
      "text/plain": [
       "<IPython.core.display.HTML object>"
      ]
     },
     "metadata": {},
     "output_type": "display_data"
    }
   ],
   "source": [
    "\"\"\"\n",
    "Created on Tue Nov  2 20:31:38 2018\n",
    "\n",
    "@author:\n",
    "Maximilian N. Günther\n",
    "MIT Kavli Institute for Astrophysics and Space Research, \n",
    "Massachusetts Institute of Technology,\n",
    "77 Massachusetts Avenue,\n",
    "Cambridge, MA 02109, \n",
    "USA\n",
    "Email: maxgue@mit.edu\n",
    "Web: www.mnguenther.com\n",
    "\"\"\"\n",
    "\n",
    "from __future__ import print_function, division, absolute_import\n",
    "\n",
    "#::: plotting settings\n",
    "import seaborn as sns\n",
    "sns.set(context='paper', style='ticks', palette='deep', font='sans-serif', font_scale=1.5, color_codes=True)\n",
    "sns.set_style({\"xtick.direction\": \"in\",\"ytick.direction\": \"in\"})\n",
    "sns.set_context(rc={'lines.markeredgewidth': 1})\n",
    "\n",
    "#::: modules\n",
    "import numpy as np\n",
    "import os, sys\n",
    "import csv\n",
    "import ipywidgets as widgets\n",
    "from IPython.display import display, HTML, Markdown, clear_output, Javascript\n",
    "display(HTML(\"<style>.container { width:80% !important; }</style>\"))\n",
    "from multiprocessing import cpu_count\n",
    "if sys.version_info[0] == 3: # for Python3\n",
    "    from tkinter import Tk, filedialog\n",
    "elif sys.version_info[0] == 2: # for Python2\n",
    "    from Tkinter import Tk\n",
    "    import tkFileDialog as filedialog\n",
    "import warnings\n",
    "def custom_formatwarning(msg, *args, **kwargs):\n",
    "    return str(msg) + '\\n'\n",
    "warnings.formatwarning = custom_formatwarning\n",
    "    \n",
    "#::: allesfitter modules\n",
    "#::: somehow jupyter notebooks don't allow relative imports, so it needs a little hack...\n",
    "module_path = os.path.abspath(os.path.join('..'))\n",
    "if module_path not in sys.path: sys.path.append(module_path)\n",
    "import allesfitter\n",
    "from allesfitter.utils.latex_printer import round_txt_separately\n",
    "from allesfitter.priors.transform_priors import get_cosi_from_i, get_Rsuma_from_a_over_Rstar, get_Rsuma_from_Rstar_over_a\n",
    "from allesfitter.priors.estimate_noise import estimate_noise\n",
    "\n",
    "%load_ext autoreload\n",
    "%autoreload 2"
   ]
  },
  {
   "cell_type": "code",
   "execution_count": 3,
   "metadata": {},
   "outputs": [],
   "source": [
    "#::: globals\n",
    "global INPUT\n",
    "global VBOXES\n",
    "global BUTTONS\n",
    "global DROPDOWNS\n",
    "INPUT = {}\n",
    "VBOXES = {}\n",
    "BUTTONS = {}\n",
    "DROPDOWNS = {}\n",
    "layout = {'width': '180px'}\n",
    "layout_wide = {'width': '360px'}\n",
    "layout_textbox = {'width': '120px'}\n",
    "layout_checkbox = {}"
   ]
  },
  {
   "cell_type": "code",
   "execution_count": 4,
   "metadata": {},
   "outputs": [],
   "source": [
    "#:::: clean up csv file\n",
    "def clean_up_csv(fname, N_last_rows=0):\n",
    "    \n",
    "    with open(fname, \"r\") as f:\n",
    "        params_csv = list(csv.reader(f))\n",
    "\n",
    "    with open(fname, \"w\") as f:\n",
    "        writer = csv.writer(f)\n",
    "        for i in range(len(params_csv)-N_last_rows):\n",
    "            row = params_csv[i]\n",
    "            writer.writerow(row)\n",
    "            \n",
    "\n",
    "#:::: append a row into csv file              \n",
    "def fwrite_params_line(text):\n",
    "    with open(INPUT['fname_params'], 'a') as f:\n",
    "        f.write(text+'\\n')\n",
    "        \n",
    "            \n",
    "#:::: write params into csv file            \n",
    "def fwrite_params(key, label, unit, physical_bounds, return_str=False):\n",
    "    if INPUT[key+'_bounds_type'].value == 'uniform':\n",
    "        bounds = 'uniform ' \\\n",
    "                 + str( np.max( [physical_bounds[0], float(INPUT[key+'_median'].value)-float(INPUT[key+'_lerr'].value)] ) ) + ' ' \\\n",
    "                 + str( np.min( [physical_bounds[1], float(INPUT[key+'_median'].value)+float(INPUT[key+'_uerr'].value)] ) )\n",
    "    elif INPUT[key+'_bounds_type'].value == 'uniform * 5':\n",
    "        bounds = 'uniform ' \\\n",
    "                 + str( np.max( [physical_bounds[0], float(INPUT[key+'_median'].value)-5*float(INPUT[key+'_lerr'].value)] ) ) + ' ' \\\n",
    "                 + str( np.min( [physical_bounds[1], float(INPUT[key+'_median'].value)+5*float(INPUT[key+'_uerr'].value)] ) )\n",
    "    elif INPUT[key+'_bounds_type'].value == 'trunc_normal':\n",
    "        bounds = 'trunc_normal ' \\\n",
    "                 + str(physical_bounds[0]) + ' ' \\\n",
    "                 + str(physical_bounds[1]) + ' ' \\\n",
    "                 + str(INPUT[key+'_median'].value) + ' ' \\\n",
    "                 + str(np.max( [ float(INPUT[key+'_lerr'].value), float(INPUT[key+'_uerr'].value) ] ))\n",
    "    elif INPUT[key+'_bounds_type'].value == 'trunc_normal * 5':\n",
    "        bounds = 'trunc_normal ' \\\n",
    "                 + str(physical_bounds[0]) + ' ' \\\n",
    "                 + str(physical_bounds[1]) + ' ' \\\n",
    "                 + str(INPUT[key+'_median'].value) + ' ' \\\n",
    "                 + str(5*np.max( [ float(INPUT[key+'_lerr'].value), float(INPUT[key+'_uerr'].value) ] ))\n",
    "    string = key + ',' + str(INPUT[key+'_median'].value) + ',' + str(int(INPUT[key+'_fit'].value)) + ',' +  bounds + ',' + label + ',' + unit\n",
    "    if not return_str:\n",
    "        fwrite_params_line(string)     \n",
    "    else:\n",
    "        return string\n",
    "    \n",
    "#unique\n",
    "def unique(array):\n",
    "    uniq, index = np.unique(array, return_index=True)\n",
    "    return uniq[index.argsort()]"
   ]
  },
  {
   "cell_type": "markdown",
   "metadata": {},
   "source": [
    "# 1. working directory"
   ]
  },
  {
   "cell_type": "markdown",
   "metadata": {},
   "source": [
    "Select the working directory for this fit, for example `/Users/me/TESS-1b/`. Then you can run a fit using `allesfitter.ns_fit('/Users/me/TESS-1b/')`."
   ]
  },
  {
   "cell_type": "code",
   "execution_count": 5,
   "metadata": {
    "scrolled": true
   },
   "outputs": [
    {
     "data": {
      "application/vnd.jupyter.widget-view+json": {
       "model_id": "b62b93a34ccc47fbb8f06bd28af5008d",
       "version_major": 2,
       "version_minor": 0
      },
      "text/plain": [
       "HBox(children=(Button(description='Select directory', style=ButtonStyle()), Text(value='', placeholder='for ex…"
      ]
     },
     "metadata": {},
     "output_type": "display_data"
    },
    {
     "data": {
      "application/javascript": [
       "IPython.notebook.execute_cell_range(IPython.notebook.get_selected_index()+1, IPython.notebook.ncells())"
      ],
      "text/plain": [
       "<IPython.core.display.Javascript object>"
      ]
     },
     "metadata": {},
     "output_type": "display_data"
    },
    {
     "data": {
      "application/javascript": [
       "IPython.notebook.execute_cell_range(IPython.notebook.get_selected_index()+1, IPython.notebook.ncells())"
      ],
      "text/plain": [
       "<IPython.core.display.Javascript object>"
      ]
     },
     "metadata": {},
     "output_type": "display_data"
    },
    {
     "data": {
      "application/javascript": [
       "IPython.notebook.execute_cell_range(IPython.notebook.get_selected_index()+1, IPython.notebook.ncells())"
      ],
      "text/plain": [
       "<IPython.core.display.Javascript object>"
      ]
     },
     "metadata": {},
     "output_type": "display_data"
    }
   ],
   "source": [
    "BUTTONS['datadir'] = widgets.Button(description='Select directory', button_style='')\n",
    "text_af_directory = widgets.Text(value='', placeholder='for example: /Users/me/TESS-1b/', disable=True)\n",
    "hbox = widgets.HBox([BUTTONS['datadir'], text_af_directory])\n",
    "display(hbox)\n",
    "\n",
    "def select_datadir(change):\n",
    "    root = Tk()\n",
    "    root.withdraw()\n",
    "    root.call('wm', 'attributes', '.', '-topmost', True)\n",
    "    INPUT['datadir'] = filedialog.askdirectory()\n",
    "    %gui tk\n",
    "    if INPUT['datadir'] != '':\n",
    "        text_af_directory.value = INPUT['datadir']\n",
    "        BUTTONS['datadir'].style.button_color = 'lightgreen'\n",
    "        INPUT['show_step_2a'] = True\n",
    "        display(Javascript('IPython.notebook.execute_cell_range(IPython.notebook.get_selected_index()+1, IPython.notebook.ncells())'))\n",
    "BUTTONS['datadir'].on_click(select_datadir)"
   ]
  },
  {
   "cell_type": "markdown",
   "metadata": {},
   "source": [
    "# 2. settings"
   ]
  },
  {
   "cell_type": "code",
   "execution_count": 46,
   "metadata": {},
   "outputs": [
    {
     "data": {
      "text/markdown": [
       "### General settings"
      ],
      "text/plain": [
       "<IPython.core.display.Markdown object>"
      ]
     },
     "metadata": {},
     "output_type": "display_data"
    },
    {
     "data": {
      "application/vnd.jupyter.widget-view+json": {
       "model_id": "fa460e3324e74072a73882b6c6b6e426",
       "version_major": 2,
       "version_minor": 0
      },
      "text/plain": [
       "HBox(children=(Label(value='Fitting planets or EBs?', layout=Layout(width='180px')), Dropdown(options=('Planet…"
      ]
     },
     "metadata": {},
     "output_type": "display_data"
    },
    {
     "data": {
      "text/markdown": [
       "Give the companion letters and instruments, space-separated. Leave empty if not applicable."
      ],
      "text/plain": [
       "<IPython.core.display.Markdown object>"
      ]
     },
     "metadata": {},
     "output_type": "display_data"
    },
    {
     "data": {
      "application/vnd.jupyter.widget-view+json": {
       "model_id": "8fca051842864c5fa9984089a9866fde",
       "version_major": 2,
       "version_minor": 0
      },
      "text/plain": [
       "VBox(children=(HBox(children=(Label(value='Companions in photometry', layout=Layout(width='180px')), Text(valu…"
      ]
     },
     "metadata": {},
     "output_type": "display_data"
    },
    {
     "data": {
      "application/vnd.jupyter.widget-view+json": {
       "model_id": "c7c3edda58484ed3ba24a278b0e3e1f2",
       "version_major": 2,
       "version_minor": 0
      },
      "text/plain": [
       "Button(description='Confirm', style=ButtonStyle())"
      ]
     },
     "metadata": {},
     "output_type": "display_data"
    },
    {
     "data": {
      "application/javascript": [
       "IPython.notebook.execute_cell_range(IPython.notebook.get_selected_index()+1, IPython.notebook.ncells())"
      ],
      "text/plain": [
       "<IPython.core.display.Javascript object>"
      ]
     },
     "metadata": {},
     "output_type": "display_data"
    }
   ],
   "source": [
    "if 'show_step_2a' in INPUT and INPUT['show_step_2a'] == True:\n",
    "\n",
    "    display(Markdown('### General settings'))\n",
    "    \n",
    "    \n",
    "    DROPDOWNS['planet_or_EB'] = widgets.Dropdown(options=['Planets', 'EBs'])\n",
    "    display( widgets.HBox([widgets.Label(value='Fitting planets or EBs?', layout=layout), DROPDOWNS['planet_or_EB']]) )\n",
    "    \n",
    "    \n",
    "    display(Markdown('Give the companion letters and instruments, space-separated. Leave empty if not applicable.'))\n",
    "    \n",
    "    hbox_list = []\n",
    "    \n",
    "    text_companions_phot = widgets.Text(value='', placeholder='for example: b')\n",
    "    hbox_list.append( widgets.HBox([widgets.Label(value='Companions in photometry', layout=layout), text_companions_phot]) )\n",
    "\n",
    "    text_companions_rv = widgets.Text(value='', placeholder='for example: b c')\n",
    "    hbox_list.append( widgets.HBox([widgets.Label(value='Companions in RV', layout=layout), text_companions_rv]) )\n",
    "\n",
    "    text_inst_phot = widgets.Text(value='', placeholder='for example: TESS NGTS')\n",
    "    hbox_list.append( widgets.HBox([widgets.Label(value='Instruments for photometry', layout=layout), text_inst_phot]) )\n",
    "\n",
    "    text_inst_rv = widgets.Text(value='', placeholder='for example: HARPS Coralie')\n",
    "    hbox_list.append( widgets.HBox([widgets.Label(value='Instruments for RV', layout=layout), text_inst_rv]) )\n",
    "\n",
    "    display(widgets.VBox(hbox_list))\n",
    "    \n",
    "    def confirm(change):\n",
    "        \n",
    "        #::: set stuff\n",
    "        if len(text_inst_phot.value): INPUT['inst_phot'] = str(text_inst_phot.value).split(' ')\n",
    "        else: INPUT['inst_phot'] = []\n",
    "        if len(text_inst_rv.value): INPUT['inst_rv'] = str(text_inst_rv.value).split(' ')\n",
    "        else: INPUT['inst_rv'] = []\n",
    "\n",
    "        if len(text_companions_phot.value): INPUT['companions_phot'] = str(text_companions_phot.value).split(' ')\n",
    "        else: INPUT['companions_phot'] = []\n",
    "        if len(text_companions_rv.value): INPUT['companions_rv'] = str(text_companions_rv.value).split(' ')\n",
    "        else: INPUT['companions_rv'] = []\n",
    "\n",
    "        INPUT['companions_all'] = list(np.unique(INPUT['companions_phot']+INPUT['companions_rv'])) #sorted by b, c, d...\n",
    "        INPUT['inst_all'] = list(unique(INPUT['inst_phot']+INPUT['inst_rv'])) #sorted like user input\n",
    "            \n",
    "        button_2a.style.button_color = 'lightgreen'\n",
    "        INPUT['show_step_2b'] = True\n",
    "        display(Javascript('IPython.notebook.execute_cell_range(IPython.notebook.get_selected_index()+1, IPython.notebook.ncells())'))\n",
    "        \n",
    "    button_2a = widgets.Button(description='Confirm', button_style='')\n",
    "    display(button_2a)\n",
    "    button_2a.on_click(confirm)"
   ]
  },
  {
   "cell_type": "code",
   "execution_count": 59,
   "metadata": {},
   "outputs": [
    {
     "data": {
      "text/markdown": [
       "### Advanced settings"
      ],
      "text/plain": [
       "<IPython.core.display.Markdown object>"
      ]
     },
     "metadata": {},
     "output_type": "display_data"
    },
    {
     "data": {
      "application/vnd.jupyter.widget-view+json": {
       "model_id": "8281e87cc86d497591b60cab031f7809",
       "version_major": 2,
       "version_minor": 0
      },
      "text/plain": [
       "Accordion(children=(VBox(children=(HBox(children=(Label(value='Multiprocessing', layout=Layout(width='180px'))…"
      ]
     },
     "metadata": {},
     "output_type": "display_data"
    },
    {
     "data": {
      "application/vnd.jupyter.widget-view+json": {
       "model_id": "6675db80bbf14bf58c605ab763a76b27",
       "version_major": 2,
       "version_minor": 0
      },
      "text/plain": [
       "Button(description='Confirm', style=ButtonStyle())"
      ]
     },
     "metadata": {},
     "output_type": "display_data"
    },
    {
     "data": {
      "application/javascript": [
       "IPython.notebook.execute_cell_range(IPython.notebook.get_selected_index()+1, IPython.notebook.ncells())"
      ],
      "text/plain": [
       "<IPython.core.display.Javascript object>"
      ]
     },
     "metadata": {},
     "output_type": "display_data"
    }
   ],
   "source": [
    "if 'show_step_2b' in INPUT and INPUT['show_step_2b'] == True:\n",
    "    \n",
    "    display(Markdown('### Advanced settings'))\n",
    "    \n",
    "    \n",
    "    vbox_list = []\n",
    "    \n",
    "    #::: Fitting & performance\n",
    "    hbox_list = []\n",
    "    \n",
    "    max_cores = cpu_count()\n",
    "    DROPDOWNS['multiprocessing'] = widgets.Dropdown(options=['No'] + ['on '+str(i)+' of my '+str(max_cores)+' cores' for i in range(2,max_cores)] + ['always on all - 1 cores on any system'])\n",
    "    hbox_list.append(widgets.HBox([widgets.Label(value='Multiprocessing', layout=layout), DROPDOWNS['multiprocessing']]))\n",
    "    \n",
    "    DROPDOWNS['fit_type'] = widgets.Dropdown(options=['Transit (fast)', 'Transit and occultation (fast)', 'Full lightcurve (slow)'])\n",
    "    hbox_list.append(widgets.HBox([widgets.Label(value='Fit type', layout=layout), DROPDOWNS['fit_type']]))\n",
    "    \n",
    "    DROPDOWNS['shift_epoch'] = widgets.Dropdown(options=['Yes', 'No'])\n",
    "    hbox_list.append(widgets.HBox([widgets.Label(value='Automatically shift epoch?', layout=layout), DROPDOWNS['shift_epoch']]))\n",
    "    \n",
    "    DROPDOWNS['mcmc_settings'] = widgets.Dropdown(options=['Default'])\n",
    "    hbox_list.append(widgets.HBox([widgets.Label(value='MCMC settings', layout=layout), DROPDOWNS['mcmc_settings']]))\n",
    "    \n",
    "    DROPDOWNS['ns_settings'] = widgets.Dropdown(options=['Default'])\n",
    "    hbox_list.append(widgets.HBox([widgets.Label(value='Nested Sampling settings', layout=layout), DROPDOWNS['ns_settings']]))\n",
    "    \n",
    "    vbox_list.append( widgets.VBox(hbox_list) )\n",
    "    \n",
    "    \n",
    "    #::: Limb darkening\n",
    "    hbox_list = []\n",
    "    for inst in INPUT['inst_phot']:\n",
    "        DROPDOWNS['host_ld_law_'+inst] = widgets.Dropdown(options=['None','Linear','Quadratic','Sing'], value='Quadratic')\n",
    "        hbox_list.append( widgets.HBox([widgets.Label(value='Host limb darkening '+inst, layout=layout), DROPDOWNS['host_ld_law_'+inst]]) )\n",
    "        if DROPDOWNS['planet_or_EB'].value == 'EBs':\n",
    "            for companion in INPUT['companions_all']:\n",
    "                DROPDOWNS[companion+'_ld_law_'+inst] = widgets.Dropdown(options=['None','Linear','Quadratic','Sing'])\n",
    "                hbox_list.append( widgets.HBox([widgets.Label(value=companion+' limb darkening '+inst, layout=layout), DROPDOWNS[companion+'_ld_law_'+inst]]) )\n",
    "    vbox_list.append( widgets.VBox(hbox_list) )\n",
    "\n",
    "    \n",
    "    #::: Baseline settings\n",
    "    hbox_list = []\n",
    "    for inst in INPUT['inst_phot']:\n",
    "        DROPDOWNS['baseline_flux_'+inst] = widgets.Dropdown(options=['sample_offset', 'sample_linear', 'sample_GP_Matern32', 'sample_GP_SHO', 'sample_GP_real', 'sample_GP_complex', 'hybrid_offset', 'hybrid_poly_1', 'hybrid_poly_2', 'hybrid_poly_3', 'hybrid_poly_4', 'hybrid_spline'], value='hybrid_offset')\n",
    "        hbox_list.append( widgets.HBox([widgets.Label(value='Baseline flux '+inst, layout=layout), DROPDOWNS['baseline_flux_'+inst]]) )\n",
    "    for inst in INPUT['inst_rv']:\n",
    "        DROPDOWNS['baseline_rv_'+inst] = widgets.Dropdown(options=['sample_offset', 'sample_linear', 'sample_GP_Matern32', 'sample_GP_SHO', 'sample_GP_real', 'sample_GP_complex', 'hybrid_offset', 'hybrid_poly_1', 'hybrid_poly_2', 'hybrid_poly_3', 'hybrid_poly_4', 'hybrid_spline'], value='hybrid_offset')\n",
    "        hbox_list.append( widgets.HBox([widgets.Label(value='Baseline RV '+inst, layout=layout), DROPDOWNS['baseline_rv_'+inst]]) )\n",
    "    vbox_list.append( widgets.VBox(hbox_list) )\n",
    "   \n",
    "    \n",
    "    #::: Error settings\n",
    "    hbox_list = []\n",
    "    for inst in INPUT['inst_phot']:\n",
    "        DROPDOWNS['error_flux_'+inst] = widgets.Dropdown(options=['sample', 'hybrid'], value='sample')\n",
    "        hbox_list.append( widgets.HBox([widgets.Label(value='Error flux '+inst, layout=layout), DROPDOWNS['error_flux_'+inst]]) )\n",
    "    for inst in INPUT['inst_rv']:\n",
    "        DROPDOWNS['error_rv_'+inst] = widgets.Dropdown(options=['sample', 'hybrid'], value='sample')\n",
    "        hbox_list.append( widgets.HBox([widgets.Label(value='Error RV '+inst, layout=layout), DROPDOWNS['error_rv_'+inst]]) )\n",
    "    vbox_list.append( widgets.VBox(hbox_list) )\n",
    "    \n",
    "    \n",
    "    #::: Exposure time interpolation\n",
    "    hbox_list = []\n",
    "    for inst in INPUT['inst_all']:\n",
    "        DROPDOWNS['t_exp_'+inst] = widgets.Text( placeholder='None' )\n",
    "        hbox_list.append( widgets.HBox([widgets.Label(value='Exposure time '+inst, layout=layout), DROPDOWNS['t_exp_'+inst], widgets.Label(value='days', layout=layout)]) )\n",
    "    for inst in INPUT['inst_all']:\n",
    "        DROPDOWNS['t_exp_n_int_'+inst] = widgets.Text( placeholder='None' )\n",
    "        hbox_list.append( widgets.HBox([widgets.Label(value='Interpolation points '+inst, layout=layout), DROPDOWNS['t_exp_n_int_'+inst], widgets.Label(value='(integer)', layout=layout)]) )\n",
    "    vbox_list.append( widgets.VBox(hbox_list) )\n",
    "        \n",
    "        \n",
    "    #::: Number of spots\n",
    "    hbox_list = []\n",
    "    for inst in INPUT['inst_all']:\n",
    "        DROPDOWNS['host_N_spots_'+inst] = widgets.Text( placeholder='None' )\n",
    "        hbox_list.append( widgets.HBox([widgets.Label(value='host: Nr. of spots '+inst, layout=layout), DROPDOWNS['host_N_spots_'+inst], widgets.Label(value='(integer)', layout=layout)]) )\n",
    "    vbox_list.append( widgets.VBox(hbox_list) )\n",
    "    \n",
    "    \n",
    "    #::: Number of flares\n",
    "    hbox_list = []\n",
    "    DROPDOWNS['N_flares'] = widgets.Text( placeholder='None' )\n",
    "    hbox_list.append( widgets.HBox([widgets.Label(value='Nr. of flares', layout=layout), DROPDOWNS['N_flares'], widgets.Label(value='(integer)', layout=layout)]) )\n",
    "    vbox_list.append( widgets.VBox(hbox_list) )\n",
    "        \n",
    "        \n",
    "    #::: Fit TTVs?\n",
    "    hbox_list = []\n",
    "    DROPDOWNS['fit_ttvs'] = widgets.Dropdown(options=[\"yes\",\"no\"], value=\"no\")\n",
    "    hbox_list.append( widgets.HBox([widgets.Label(value='Fit TTVs?', layout=layout), DROPDOWNS['fit_ttvs']]) )\n",
    "    vbox_list.append( widgets.VBox(hbox_list) )\n",
    "        \n",
    "        \n",
    "    #::: Stellar grid (e.g. use \"sparse\" to speed up intense spot computations)   \n",
    "    hbox_list = []\n",
    "    for inst in INPUT['inst_all']:\n",
    "        DROPDOWNS['host_grid_'+inst] = widgets.Dropdown(options=[\"very_sparse\", \"sparse\", \"default\", \"fine\", \"very_fine\"], value=\"default\")\n",
    "        hbox_list.append( widgets.HBox([widgets.Label(value='Host grid '+inst, layout=layout), DROPDOWNS['host_grid_'+inst]]) )\n",
    "        if DROPDOWNS['planet_or_EB'].value == 'EBs':\n",
    "            for companion in INPUT['companions_all']:\n",
    "                DROPDOWNS[companion+'_grid_'+inst] = widgets.Dropdown(options=[\"very_sparse\", \"sparse\", \"default\", \"fine\", \"very_fine\"], value=\"default\")\n",
    "                hbox_list.append( widgets.HBox([widgets.Label(value=companion+' grid '+inst, layout=layout), DROPDOWNS[companion+'_grid_'+inst]]) )\n",
    "    vbox_list.append( widgets.VBox(hbox_list) )\n",
    "    \n",
    "    \n",
    "    #::: Stellar shape (e.g. use \"roche\" for ellipsoidal variablity)\n",
    "    hbox_list = []\n",
    "    for inst in INPUT['inst_all']:\n",
    "        DROPDOWNS['host_shape_'+inst] = widgets.Dropdown(options=[\"roche\", \"roche_v\", \"sphere\", \"poly1p5\", \"poly3p0\", \"love\"], value=\"sphere\")\n",
    "        hbox_list.append( widgets.HBox([widgets.Label(value='Host shape '+inst, layout=layout), DROPDOWNS['host_shape_'+inst]]) )\n",
    "        if DROPDOWNS['planet_or_EB'].value == 'EBs':\n",
    "            for companion in INPUT['companions_all']:\n",
    "                DROPDOWNS[companion+'_shape_'+inst] = widgets.Dropdown(options=[\"roche\", \"roche_v\", \"sphere\", \"poly1p5\", \"poly3p0\", \"love\"], value=\"sphere\")\n",
    "                hbox_list.append( widgets.HBox([widgets.Label(value=companion+' shape '+inst, layout=layout), DROPDOWNS[companion+'_shape_'+inst]]) )\n",
    "    vbox_list.append( widgets.VBox(hbox_list) )\n",
    "    \n",
    "    \n",
    "    #::: Flux weighted RVs (\"Yes\" for Rossiter-McLaughlin effect)\n",
    "    hbox_list = []\n",
    "    for inst in INPUT['inst_rv']:\n",
    "        for companion in INPUT['companions_rv']:\n",
    "            DROPDOWNS[companion+'_flux_weighted_'+inst] = widgets.Dropdown(options=['No', 'Yes'])\n",
    "            hbox_list.append( widgets.HBox([widgets.Label(value=companion+' flux weighted RV '+inst, layout=layout), DROPDOWNS[companion+'_flux_weighted_'+inst]]) )\n",
    "    vbox_list.append( widgets.VBox(hbox_list) )\n",
    "    \n",
    "    \n",
    "    #::: accordion\n",
    "    accordion = widgets.Accordion(children=vbox_list)\n",
    "    accordion.set_title(0, 'Fitting & performance')\n",
    "    accordion.set_title(1, 'Limb darkening laws')\n",
    "    accordion.set_title(2, 'Baseline sampling')\n",
    "    accordion.set_title(3, 'Error sampling')\n",
    "    accordion.set_title(4, 'Exposure time interpolation')\n",
    "    accordion.set_title(5, 'Number of spots')\n",
    "    accordion.set_title(6, 'Number of flares')\n",
    "    accordion.set_title(7, 'TTVs')\n",
    "    accordion.set_title(8, 'Stellar grid (e.g. use \"very_sparse\" to speed up computations)')\n",
    "    accordion.set_title(9, 'Stellar shape (e.g. use \"roche\" for ellipsoidal variablity)')\n",
    "    accordion.set_title(10, 'Flux weighted RVs (e.g. use \"true\" for Rossiter-McLaughlin effect)')\n",
    "    display(accordion)\n",
    "    \n",
    "    \n",
    "    #::: confirm button\n",
    "    button_2b = widgets.Button(description='Confirm', button_style='')\n",
    "    display(button_2b)\n",
    "\n",
    "    def confirm(change):\n",
    "        button_2b.style.button_color = 'lightgreen'\n",
    "        INPUT['show_step_2c'] = True\n",
    "        display(Javascript('IPython.notebook.execute_cell_range(IPython.notebook.get_selected_index()+1, IPython.notebook.ncells())'))\n",
    "    button_2b.on_click(confirm)"
   ]
  },
  {
   "cell_type": "code",
   "execution_count": 71,
   "metadata": {
    "scrolled": true
   },
   "outputs": [
    {
     "data": {
      "application/vnd.jupyter.widget-view+json": {
       "model_id": "75f045e3ae964cd086527c02c57a5ed8",
       "version_major": 2,
       "version_minor": 0
      },
      "text/plain": [
       "HBox(children=(Button(description='Create settings.csv', style=ButtonStyle()), Checkbox(value=False, descripti…"
      ]
     },
     "metadata": {},
     "output_type": "display_data"
    },
    {
     "name": "stdout",
     "output_type": "stream",
     "text": [
      "Done.\n"
     ]
    },
    {
     "data": {
      "application/javascript": [
       "IPython.notebook.execute_cell_range(IPython.notebook.get_selected_index()+1, IPython.notebook.ncells())"
      ],
      "text/plain": [
       "<IPython.core.display.Javascript object>"
      ]
     },
     "metadata": {},
     "output_type": "display_data"
    }
   ],
   "source": [
    "if 'show_step_2c' in INPUT and INPUT['show_step_2c'] == True:\n",
    "\n",
    "    BUTTONS['2c'] = widgets.Button(description='Create settings.csv', button_style='')\n",
    "    checkbox_2c = widgets.Checkbox(description='Overwrite old settings.csv (if existing)', value=False)\n",
    "    display(widgets.HBox([BUTTONS['2c'], checkbox_2c]))\n",
    "    \n",
    "    \n",
    "\n",
    "    def create_settings_file(change):\n",
    "        clear_output()\n",
    "        display(widgets.HBox([BUTTONS['2c'], checkbox_2c]))\n",
    "\n",
    "        go_ahead = True\n",
    "\n",
    "        if 'datadir' not in INPUT:\n",
    "            warnings.warn('No allesfitter woking directory selected yet. Please go back to step 1) and fill in all fields.')\n",
    "            go_ahead = False\n",
    "\n",
    "        if os.path.exists(os.path.join(INPUT['datadir'],'settings.csv')) and (checkbox_2c.value==False):\n",
    "            warnings.warn('The selected working directory '+os.path.join(INPUT['datadir'],'settings.csv')+' already exists. To proceed, give permission to overwrite it.')\n",
    "            go_ahead = False\n",
    "\n",
    "        if go_ahead:\n",
    "            fname_settings = os.path.join(INPUT['datadir'], 'settings.csv')\n",
    "            with open(fname_settings, 'w+') as f:\n",
    "                f.write('#name,value\\n')\n",
    "\n",
    "            def fwrite_settings(text):\n",
    "                with open(fname_settings, 'a') as f:\n",
    "                    f.write(text+'\\n')\n",
    "    \n",
    "\n",
    "            fwrite_settings('###############################################################################,')\n",
    "            fwrite_settings('# General settings,')\n",
    "            fwrite_settings('###############################################################################,')\n",
    "            fwrite_settings('companions_phot,'+text_companions_phot.value)\n",
    "            fwrite_settings('companions_rv,'+text_companions_rv.value)\n",
    "            fwrite_settings('inst_phot,'+text_inst_phot.value)\n",
    "            fwrite_settings('inst_rv,'+text_inst_rv.value)\n",
    "\n",
    "            \n",
    "            fwrite_settings('###############################################################################,')\n",
    "            fwrite_settings('# Fit performance settings,')\n",
    "            fwrite_settings('###############################################################################,')\n",
    "            if DROPDOWNS['multiprocessing'].value=='No':\n",
    "                fwrite_settings('multiprocess,False')\n",
    "            elif DROPDOWNS['multiprocessing'].value=='always on all - 1 cores on any system':\n",
    "                fwrite_settings('multiprocess,True')\n",
    "                fwrite_settings('multiprocess_cores,all')\n",
    "            else:\n",
    "                fwrite_settings('multiprocess,True')\n",
    "                fwrite_settings('multiprocess_cores,'+DROPDOWNS['multiprocessing'].value.split(' ')[1])\n",
    "                \n",
    "                \n",
    "            if DROPDOWNS['fit_type'].value=='Transit (fast)':\n",
    "                fwrite_settings('fast_fit,True')\n",
    "                fwrite_settings('fast_fit_width,0.3333333333333333')\n",
    "                fwrite_settings('secondary_eclipse,False')\n",
    "                fwrite_settings('phase_curve,False')\n",
    "            elif DROPDOWNS['fit_type'].value=='Transit and occultation (fast)':\n",
    "                fwrite_settings('fast_fit,True')\n",
    "                fwrite_settings('fast_fit_width,0.3333333333333333')\n",
    "                fwrite_settings('secondary_eclipse,True')\n",
    "                fwrite_settings('phase_curve,False')\n",
    "            elif DROPDOWNS['fit_type'].value=='Full lightcurve (slow)':\n",
    "                fwrite_settings('fast_fit,False')\n",
    "                fwrite_settings('fast_fit_width,')\n",
    "                fwrite_settings('secondary_eclipse,True')\n",
    "                fwrite_settings('phase_curve,True')\n",
    "                fwrite_settings('phase_curve_style,GP')\n",
    "                \n",
    "                \n",
    "            if DROPDOWNS['shift_epoch'].value=='Yes':\n",
    "                fwrite_settings('shift_epoch,True')\n",
    "                for companion in INPUT['companions_all']:\n",
    "                    fwrite_settings('inst_for_'+companion+'_epoch,all')\n",
    "                \n",
    "                \n",
    "            fwrite_settings('###############################################################################,')\n",
    "            fwrite_settings('# MCMC settings,')\n",
    "            fwrite_settings('###############################################################################,')\n",
    "            if DROPDOWNS['mcmc_settings'].value=='Default':\n",
    "                fwrite_settings('mcmc_nwalkers,100')\n",
    "                fwrite_settings('mcmc_total_steps,2000')\n",
    "                fwrite_settings('mcmc_burn_steps,1000')\n",
    "                fwrite_settings('mcmc_thin_by,1')\n",
    "\n",
    "                \n",
    "            fwrite_settings('###############################################################################,')\n",
    "            fwrite_settings('# Nested Sampling settings,')\n",
    "            fwrite_settings('###############################################################################,')\n",
    "            if DROPDOWNS['ns_settings'].value=='Default':\n",
    "                fwrite_settings('ns_modus,dynamic')\n",
    "                fwrite_settings('ns_nlive,500')\n",
    "                fwrite_settings('ns_bound,single')\n",
    "                fwrite_settings('ns_sample,rwalk')\n",
    "                fwrite_settings('ns_tol,0.01')\n",
    "\n",
    "                \n",
    "            fwrite_settings('###############################################################################,')\n",
    "            fwrite_settings(\"# Limb darkening law per object and instrument,\")\n",
    "            fwrite_settings(\"# if 'lin' one corresponding parameter called 'ldc_q1_inst' has to be given in params.csv,\")\n",
    "            fwrite_settings(\"# if 'quad' two corresponding parameter called 'ldc_q1_inst' and 'ldc_q2_inst' have to be given in params.csv,\")\n",
    "            fwrite_settings(\"# if 'sing' three corresponding parameter called 'ldc_q1_inst'; 'ldc_q2_inst' and 'ldc_q3_inst' have to be given in params.csv,\")\n",
    "            fwrite_settings('###############################################################################,')\n",
    "            def translate_ld(x):\n",
    "                if x=='None': return ''\n",
    "                elif x=='Linear': return 'lin'\n",
    "                elif x=='Quadratic': return 'quad'\n",
    "                elif x=='Sing': return 'sing'\n",
    "                \n",
    "            for inst in INPUT['inst_phot']:\n",
    "                fwrite_settings('host_ld_law_'+inst+','+translate_ld(DROPDOWNS['host_ld_law_'+inst].value))\n",
    "                    \n",
    "                if DROPDOWNS['planet_or_EB'].value == 'EBs':\n",
    "                    for companion in INPUT['companions_all']:\n",
    "                        fwrite_settings(companion+'_ld_law_'+inst+','+translate_ld(DROPDOWNS[companion+'_ld_law_'+inst].value))\n",
    "                \n",
    "                \n",
    "            fwrite_settings('###############################################################################,')\n",
    "            fwrite_settings(\"# Baseline settings per instrument,\")\n",
    "            fwrite_settings(\"# baseline params per instrument: sample_offset / sample_linear / sample_GP / hybrid_offset / hybrid_poly_1 / hybrid_poly_2 / hybrid_poly_3 / hybrid_pol_4 / hybrid_spline / hybrid_GP,\")\n",
    "            fwrite_settings(\"# if 'sample_offset' one corresponding parameter called 'baseline_offset_key_inst' has to be given in params.csv,\")\n",
    "            fwrite_settings(\"# if 'sample_linear' two corresponding parameters called 'baseline_a_key_inst' and 'baseline_b_key_inst' have to be given in params.csv,\")\n",
    "            fwrite_settings(\"# if 'sample_GP' two corresponding parameters called 'baseline_gp1_key_inst' and 'baseline_gp2_key_inst' have to be given in params.csv,\")\n",
    "            fwrite_settings('###############################################################################,')\n",
    "            for inst in INPUT['inst_phot']:\n",
    "                fwrite_settings('baseline_flux_'+inst+','+DROPDOWNS['baseline_flux_'+inst].value)\n",
    "            for inst in INPUT['inst_rv']:\n",
    "                fwrite_settings('baseline_rv_'+inst+','+DROPDOWNS['baseline_rv_'+inst].value)\n",
    "\n",
    "                \n",
    "            fwrite_settings('###############################################################################,')\n",
    "            fwrite_settings(\"# Error settings per instrument,\")\n",
    "            fwrite_settings(\"# errors (overall scaling) per instrument: sample / hybrid,\")\n",
    "            fwrite_settings(\"# if 'sample' one corresponding parameter called 'ln_err_key_inst' (photometry) or 'ln_jitter_key_inst' (RV) has to be given in params.csv,\")\n",
    "            fwrite_settings('###############################################################################,')\n",
    "            for inst in INPUT['inst_phot']:\n",
    "                fwrite_settings('error_flux_'+inst+','+DROPDOWNS['error_flux_'+inst].value)\n",
    "            for inst in INPUT['inst_rv']:\n",
    "                fwrite_settings('error_rv_'+inst+','+DROPDOWNS['error_rv_'+inst].value)\n",
    "                \n",
    "                \n",
    "            fwrite_settings('###############################################################################,')\n",
    "            fwrite_settings('# Exposure times for interpolation,')\n",
    "            fwrite_settings('# needs to be in the same units as the time series,')\n",
    "            fwrite_settings('# if not given the observing times will not be interpolated leading to biased results,')\n",
    "            fwrite_settings('###############################################################################,')\n",
    "            for inst in INPUT['inst_all']:\n",
    "                fwrite_settings('t_exp_'+inst+','+DROPDOWNS['t_exp_'+inst].value)\n",
    "\n",
    "                \n",
    "            fwrite_settings('###############################################################################,')\n",
    "            fwrite_settings('# Number of points for exposure interpolation,')\n",
    "            fwrite_settings('# Sample as fine as possible; generally at least with a 2 min sampling for photometry,')\n",
    "            fwrite_settings('# n_int=5 was found to be a good number of interpolation points for any short photometric cadence t_exp;,')\n",
    "            fwrite_settings('# increase to at least n_int=10 for 30 min phot. cadence,')\n",
    "            fwrite_settings('# the impact on RV is not as drastic and generally n_int=5 is fine enough,')\n",
    "            fwrite_settings('###############################################################################,')\n",
    "            for inst in INPUT['inst_all']:\n",
    "                fwrite_settings('t_exp_n_int_'+inst+','+DROPDOWNS['t_exp_n_int_'+inst].value)\n",
    "\n",
    "\n",
    "            fwrite_settings('###############################################################################,')\n",
    "            fwrite_settings('# Number of spots per object and instrument,')\n",
    "            fwrite_settings('###############################################################################,')\n",
    "            for inst in INPUT['inst_all']:\n",
    "                fwrite_settings('host_N_spots_'+inst+','+DROPDOWNS['host_N_spots_'+inst].value)\n",
    "                \n",
    "                \n",
    "            fwrite_settings('###############################################################################,')\n",
    "            fwrite_settings('# Number of flares (in total),')\n",
    "            fwrite_settings('###############################################################################,')\n",
    "            fwrite_settings('N_flares'+','+DROPDOWNS['N_flares'].value)\n",
    "                \n",
    "                \n",
    "            fwrite_settings('###############################################################################,')\n",
    "            fwrite_settings('# TTVs,')\n",
    "            fwrite_settings('###############################################################################,')\n",
    "            if DROPDOWNS['fit_ttvs'].value == 'no':\n",
    "                fwrite_settings('fit_ttvs'+',False')\n",
    "            elif DROPDOWNS['fit_ttvs'].value == 'yes':\n",
    "                fwrite_settings('fit_ttvs'+',True')\n",
    "                        \n",
    "                        \n",
    "            fwrite_settings('###############################################################################,')\n",
    "            fwrite_settings('# Stellar grid per object and instrument,')\n",
    "            fwrite_settings('###############################################################################,')\n",
    "            for inst in INPUT['inst_all']:\n",
    "                fwrite_settings('host_grid_'+inst+','+DROPDOWNS['host_grid_'+inst].value)\n",
    "                if DROPDOWNS['planet_or_EB'].value == 'EBs':\n",
    "                    for companion in INPUT['companions_all']:\n",
    "                        fwrite_settings(companion+'_grid_'+inst+','+DROPDOWNS[companion+'_grid_'+inst].value)\n",
    "                \n",
    "                \n",
    "            fwrite_settings('###############################################################################,')\n",
    "            fwrite_settings('# Stellar shape per object and instrument,')\n",
    "            fwrite_settings('###############################################################################,')\n",
    "            for inst in INPUT['inst_all']:\n",
    "                fwrite_settings('host_shape_'+inst+','+DROPDOWNS['host_shape_'+inst].value)\n",
    "                if DROPDOWNS['planet_or_EB'].value == 'EBs':\n",
    "                    for companion in INPUT['companions_all']:\n",
    "                        fwrite_settings(companion+'_shape_'+inst+','+DROPDOWNS[companion+'_shape_'+inst].value)\n",
    "                \n",
    "                \n",
    "            fwrite_settings('###############################################################################,')\n",
    "            fwrite_settings('# Flux weighted RVs per object and instrument,')\n",
    "            fwrite_settings('# (\"Yes\" for Rossiter-McLaughlin effect),')\n",
    "            fwrite_settings('###############################################################################,')\n",
    "            for inst in INPUT['inst_rv']:\n",
    "                for companion in INPUT['companions_rv']:\n",
    "                    fwrite_settings(companion+'_flux_weighted_'+inst+','+DROPDOWNS[companion+'_flux_weighted_'+inst].value)\n",
    "                \n",
    "                \n",
    "            BUTTONS['2c'].style.button_color = 'lightgreen' \n",
    "            print('Done.') \n",
    "            INPUT['show_step_3'] = True\n",
    "            display(Javascript('IPython.notebook.execute_cell_range(IPython.notebook.get_selected_index()+1, IPython.notebook.ncells())'))\n",
    "\n",
    "\n",
    "    BUTTONS['2c'].on_click(create_settings_file)"
   ]
  },
  {
   "cell_type": "markdown",
   "metadata": {},
   "source": [
    "# 3. parameters"
   ]
  },
  {
   "cell_type": "code",
   "execution_count": 1,
   "metadata": {},
   "outputs": [
    {
     "name": "stdout",
     "output_type": "stream",
     "text": [
      "Created TAP+ (v20200428.1) - Connection:\n",
      "\tHost: gea.esac.esa.int\n",
      "\tUse HTTPS: True\n",
      "\tPort: 443\n",
      "\tSSL Port: 443\n",
      "Created TAP+ (v20200428.1) - Connection:\n",
      "\tHost: gea.esac.esa.int\n",
      "\tUse HTTPS: True\n",
      "\tPort: 443\n",
      "\tSSL Port: 443\n"
     ]
    },
    {
     "data": {
      "text/plain": [
       "'05c16c18'"
      ]
     },
     "execution_count": 1,
     "metadata": {},
     "output_type": "execute_result"
    }
   ],
   "source": [
    "import chronos as cr\n",
    "\n",
    "epic = 211901114\n",
    "all_campaigns = cr.get_all_campaigns(epic)\n",
    "camps = \"c\".join([str(c).zfill(2) for c in  all_campaigns])\n",
    "camps"
   ]
  },
  {
   "cell_type": "raw",
   "metadata": {},
   "source": [
    "ls ../../kesprint/data/transit_fit/todo/"
   ]
  },
  {
   "cell_type": "raw",
   "metadata": {},
   "source": [
    "import pandas as pd\n",
    "from glob import glob\n",
    "\n",
    "loc = '/home/jp/github/research/project/kesprint/data/transit_fit'\n",
    "# fp = f\"{loc}/everest_w_limbdark_prior/EPIC{epic}_c{camps}\"\n",
    "fp = f'{loc}/todo/211901114_c05c16c18_unconvered_young/'\n",
    "csvs = glob(f\"{fp}/*mcmc-results.csv\")\n",
    "assert len(csvs)>0\n",
    "\n",
    "ds = {}\n",
    "for i,csv in enumerate(sorted(csvs)):\n",
    "    d = pd.read_csv(csv, squeeze=True, index_col=0)\n",
    "    ds[i] = d\n",
    "df = pd.concat(ds)\n",
    "df"
   ]
  },
  {
   "cell_type": "raw",
   "metadata": {},
   "source": [
    "d.columns"
   ]
  },
  {
   "cell_type": "raw",
   "metadata": {},
   "source": [
    "for i,d in df.iterrows():\n",
    "    print(i)\n",
    "    for c in ['$a/R_{\\star}$', '$R_p/R_{\\star}$', '$T_{0}$', '$P$']:\n",
    "        print(f\"{c}: {d.loc[c]:.4f}, {d.loc[c+'_lo']:.5f}, {d.loc[c+'_hi']:.5f}\")\n",
    "    print()"
   ]
  },
  {
   "cell_type": "code",
   "execution_count": 82,
   "metadata": {
    "scrolled": false
   },
   "outputs": [
    {
     "data": {
      "text/markdown": [
       "### Initial guess and error bars"
      ],
      "text/plain": [
       "<IPython.core.display.Markdown object>"
      ]
     },
     "metadata": {},
     "output_type": "display_data"
    },
    {
     "data": {
      "text/markdown": [
       "These values will be converted into either uniform or truncated normal priors (with physical boundaries). The errors can be blown up by a factor of 5."
      ],
      "text/plain": [
       "<IPython.core.display.Markdown object>"
      ]
     },
     "metadata": {},
     "output_type": "display_data"
    },
    {
     "data": {
      "text/markdown": [
       "#### Astrophysical params per companion"
      ],
      "text/plain": [
       "<IPython.core.display.Markdown object>"
      ]
     },
     "metadata": {},
     "output_type": "display_data"
    },
    {
     "data": {
      "application/vnd.jupyter.widget-view+json": {
       "model_id": "1edf7e03c34144b9bb2dd010ad6d2832",
       "version_major": 2,
       "version_minor": 0
      },
      "text/plain": [
       "Tab(children=(VBox(children=(HBox(children=(Label(value='Radii & semi-major axis:', layout=Layout(width='180px…"
      ]
     },
     "metadata": {},
     "output_type": "display_data"
    }
   ],
   "source": [
    "if 'show_step_3' in INPUT and INPUT['show_step_3'] == True:\n",
    "\n",
    "    #::: placeholder\n",
    "    placeholder = widgets.Label(value='', visible=False, layout=layout)\n",
    "\n",
    "    \n",
    "    \n",
    "    #::: helper function\n",
    "    def add_row(key, label, hbox_list, median=0, lerr=0, uerr=0, transform='trunc_normal * 5', fit_value=False):\n",
    "        INPUT[key+'_median'] = widgets.FloatText(value=median, placeholder='NaN', layout=layout_textbox)\n",
    "        INPUT[key+'_lerr']   = widgets.FloatText(value=lerr, placeholder='NaN', layout=layout_textbox)\n",
    "        INPUT[key+'_uerr']   = widgets.FloatText(value=uerr, placeholder='NaN', layout=layout_textbox)\n",
    "        INPUT[key+'_bounds_type']   = widgets.Dropdown(options=['uniform', 'uniform * 5', 'trunc_normal', 'trunc_normal * 5'], value=transform, layout=layout)\n",
    "        INPUT[key+'_fit']    = widgets.Checkbox(value=fit_value, description='fit?', layout=layout_checkbox)\n",
    "        \n",
    "        buf = placeholder\n",
    "        if key in [ companion+'_rsuma' for companion in INPUT['companions_all'] ]:\n",
    "            INPUT[key+'_input_type'] = widgets.Dropdown(options=['(R_comp + R_host) / a', 'R_host / a', 'a / R_host'], layout=layout)\n",
    "            buf = INPUT[key+'_input_type']\n",
    "        elif key in [ companion+'_cosi' for companion in INPUT['companions_all'] ]:\n",
    "            INPUT[key+'_input_type'] = widgets.Dropdown(options=['cos(i)', 'i (degree)', 'i (rad)'], layout=layout)\n",
    "            buf = INPUT[key+'_input_type']\n",
    "                \n",
    "        hbox_list.append( widgets.HBox([widgets.Label(value=label, layout=layout), \n",
    "                       INPUT[key+'_median'], \n",
    "                       widgets.Label(value=\"-\"), INPUT[key+'_lerr'], \n",
    "                       widgets.Label(value=\"+\"), INPUT[key+'_uerr'],   \n",
    "                       buf, \n",
    "                       INPUT[key+'_bounds_type'],\n",
    "                       INPUT[key+'_fit']]) )\n",
    "    \n",
    "    \n",
    "    \n",
    "    #::: start\n",
    "    display(Markdown('### Initial guess and error bars'))\n",
    "    display(Markdown('These values will be converted into either uniform or truncated normal priors (with physical boundaries). The errors can be blown up by a factor of 5.'))    \n",
    "    \n",
    "    \n",
    "    \n",
    "    display(Markdown('#### Astrophysical params per companion'))\n",
    "    vbox_list = []\n",
    "    for companion in INPUT['companions_all']:\n",
    "        \n",
    "#         display(Markdown('##### Companion '+companion))\n",
    "        \n",
    "        hbox_list = []\n",
    "        add_row(companion+'_rsuma', 'Radii & semi-major axis:', hbox_list)\n",
    "        add_row(companion+'_rr', '$R_'+companion+' / R_\\star$:', hbox_list)\n",
    "        add_row(companion+'_cosi', 'Inclination:', hbox_list)\n",
    "        add_row(companion+'_epoch', 'Epoch (d):', hbox_list)\n",
    "        add_row(companion+'_period', 'Period (d):', hbox_list)\n",
    "        if companion in INPUT['companions_rv']:\n",
    "            add_row(companion+'_K', 'K (km/s):', hbox_list)\n",
    "        add_row(companion+'_f_c', '$\\sqrt{e} \\cos{\\omega}$:', hbox_list)\n",
    "        add_row(companion+'_f_s', '$\\sqrt{e} \\sin{\\omega}$:', hbox_list)\n",
    "        vbox_list.append( widgets.VBox(hbox_list) )\n",
    "    \n",
    "    tab = widgets.Tab(children=vbox_list)\n",
    "    for i, comp in enumerate(INPUT['companions_all']):\n",
    "        tab.set_title(i, 'Companion '+comp)\n",
    "    display(tab)\n",
    "    \n",
    "    \n",
    "    \n",
    "# else:\n",
    "#     print('Complete previous steps first.')"
   ]
  },
  {
   "cell_type": "raw",
   "metadata": {},
   "source": [
    "from configobj import ConfigObj\n",
    "\n",
    "co = ConfigObj(f'{loc}/{epic}.ini')\n",
    "co"
   ]
  },
  {
   "cell_type": "raw",
   "metadata": {},
   "source": [
    "star = {i:list(map(float, co['star'][i]) )for i in co['star']}\n",
    "star"
   ]
  },
  {
   "cell_type": "raw",
   "metadata": {},
   "source": [
    "from limbdark import claret\n",
    "\n",
    "u = claret('Kp', \n",
    "       *star['teff'],\n",
    "       *star['logg'],\n",
    "       *star['feh'],\n",
    "#        transform=True\n",
    "      )"
   ]
  },
  {
   "cell_type": "raw",
   "metadata": {},
   "source": [
    "u"
   ]
  },
  {
   "cell_type": "raw",
   "metadata": {},
   "source": [
    "from limbdark.limbdark import u_to_q\n",
    "\n",
    "u_to_q(u[0], u[2]), u_to_q(u[1], u[3])"
   ]
  },
  {
   "cell_type": "code",
   "execution_count": 83,
   "metadata": {},
   "outputs": [
    {
     "data": {
      "text/markdown": [
       "### Advanced params"
      ],
      "text/plain": [
       "<IPython.core.display.Markdown object>"
      ]
     },
     "metadata": {},
     "output_type": "display_data"
    },
    {
     "data": {
      "application/vnd.jupyter.widget-view+json": {
       "model_id": "8a7735219572422f9c622aaebd15420f",
       "version_major": 2,
       "version_minor": 0
      },
      "text/plain": [
       "Accordion(children=(VBox(children=(HBox(children=(Label(value='Dilution k2', layout=Layout(width='180px')), Fl…"
      ]
     },
     "metadata": {},
     "output_type": "display_data"
    }
   ],
   "source": [
    "if 'show_step_3' in INPUT and INPUT['show_step_3'] == True:\n",
    "    \n",
    "    display(Markdown('### Advanced params'))\n",
    "    vbox_list = []\n",
    "    \n",
    "    \n",
    "    #::: Dilution per instrument\n",
    "    hbox_list = []\n",
    "    for inst in INPUT['inst_phot']:\n",
    "        add_row('dil_'+inst, 'Dilution '+inst, hbox_list)\n",
    "    vbox_list.append( widgets.VBox(hbox_list) )\n",
    "    \n",
    "    \n",
    "    #::: Limb darkening per object and instrument\n",
    "    hbox_list = []\n",
    "    for inst in INPUT['inst_phot']:\n",
    "        if DROPDOWNS['host_ld_law_'+inst].value=='None':\n",
    "            pass\n",
    "        elif DROPDOWNS['host_ld_law_'+inst].value=='Linear':\n",
    "            add_row('host_ldc_q1_'+inst, 'host LD q1 '+inst, hbox_list, median=0.5, lerr=0.5, uerr=0.5, transform='uniform', fit_value=True)\n",
    "        elif DROPDOWNS['host_ld_law_'+inst].value=='Quadratic':\n",
    "            add_row('host_ldc_q1_'+inst, 'host LD q1 '+inst, hbox_list, median=0.5, lerr=0.5, uerr=0.5, transform='uniform', fit_value=True)\n",
    "            add_row('host_ldc_q2_'+inst, 'host LD q2 '+inst, hbox_list, median=0.5, lerr=0.5, uerr=0.5, transform='uniform', fit_value=True)\n",
    "        elif DROPDOWNS['host_ld_law_'+inst].value=='Sing':\n",
    "            add_row('host_ldc_q1_'+inst, 'host LD q1 '+inst, hbox_list, median=0.5, lerr=0.5, uerr=0.5, transform='uniform', fit_value=True)\n",
    "            add_row('host_ldc_q2_'+inst, 'host LD q2 '+inst, hbox_list, median=0.5, lerr=0.5, uerr=0.5, transform='uniform', fit_value=True)\n",
    "            add_row('host_ldc_q3_'+inst, 'host LD q3 '+inst, hbox_list, median=0.5, lerr=0.5, uerr=0.5, transform='uniform', fit_value=True)\n",
    "            \n",
    "        if DROPDOWNS['planet_or_EB']=='EBs':\n",
    "            for companion in INPUT['companions_phot']:\n",
    "                if DROPDOWNS[companion+'_ld_law_'+inst].value=='None':\n",
    "                    pass\n",
    "                elif DROPDOWNS[companion+'_ld_law_'+inst].value=='Linear':\n",
    "                    add_row(companion+'_ldc_q1_'+inst, companion+' LD q1 '+inst, hbox_list, median=0.5, lerr=0.5, uerr=0.5, transform='uniform', fit_value=True)\n",
    "                elif DROPDOWNS[companion+'_ld_law_'+inst].value=='Quadratic':\n",
    "                    add_row(companion+'_ldc_q1_'+inst, companion+' LD q1 '+inst, hbox_list, median=0.5, lerr=0.5, uerr=0.5, transform='uniform', fit_value=True)\n",
    "                    add_row(companion+'_ldc_q2_'+inst, companion+' LD q2 '+inst, hbox_list, median=0.5, lerr=0.5, uerr=0.5, transform='uniform', fit_value=True)\n",
    "                elif DROPDOWNS[companion+'_ld_law_'+inst].value=='Sing':\n",
    "                    add_row(companion+'_ldc_q1_'+inst, companion+' LD q1 '+inst, hbox_list, median=0.5, lerr=0.5, uerr=0.5, transform='uniform', fit_value=True)\n",
    "                    add_row(companion+'_ldc_q2_'+inst, companion+' LD q2 '+inst, hbox_list, median=0.5, lerr=0.5, uerr=0.5, transform='uniform', fit_value=True)\n",
    "                    add_row(companion+'_ldc_q3_'+inst, companion+' LD q3 '+inst, hbox_list, median=0.5, lerr=0.5, uerr=0.5, transform='uniform', fit_value=True)\n",
    "                \n",
    "    vbox_list.append( widgets.VBox(hbox_list) )\n",
    "    \n",
    "    \n",
    "    #::: Surface brightness ratio per system and instrument\n",
    "    hbox_list = []\n",
    "    for inst in INPUT['inst_all']:\n",
    "        for companion in INPUT['companions_all']:\n",
    "            add_row(companion+'_sbratio_'+inst, companion+' sbratio '+inst, hbox_list)\n",
    "    vbox_list.append( widgets.VBox(hbox_list) )\n",
    "    \n",
    "    \n",
    "    #::: Geometric albedo per object and instrument\n",
    "    hbox_list = []\n",
    "    for inst in INPUT['inst_all']:\n",
    "        add_row('host_geom_albedo_'+inst, 'host geom. alb. '+inst, hbox_list)\n",
    "        for companion in INPUT['companions_all']:\n",
    "            add_row(companion+'_geom_albedo_'+inst, companion+' geom. alb. '+inst, hbox_list)\n",
    "    vbox_list.append( widgets.VBox(hbox_list) )\n",
    "    \n",
    "        \n",
    "    #::: Gravity darkening per object and instrument\n",
    "    hbox_list = []\n",
    "    for inst in INPUT['inst_all']:\n",
    "        add_row('host_gdc_'+inst, 'host grav. dark. '+inst, hbox_list)\n",
    "        if DROPDOWNS['planet_or_EB']=='EBs':\n",
    "            for companion in INPUT['companions_all']:\n",
    "                add_row(companion+'_gdc_'+inst, companion+' grav. dark. '+inst, hbox_list)\n",
    "    vbox_list.append( widgets.VBox(hbox_list) )\n",
    "        \n",
    "\n",
    "    #::: Stellar spots per object and instrument\n",
    "    hbox_list = []\n",
    "    for inst in INPUT['inst_all']:\n",
    "        \n",
    "        if len(DROPDOWNS['host_N_spots_'+inst].value):\n",
    "            N_spots = int(DROPDOWNS['host_N_spots_'+inst].value)\n",
    "            for i in range(1,N_spots+1):\n",
    "                add_row('host_spot_'+str(i)+'_lat_'+inst, 'host spot '+str(i)+' lat. '+inst+' (deg)', hbox_list)\n",
    "                add_row('host_spot_'+str(i)+'_long_'+inst, 'host spot '+str(i)+' long. '+inst+' (deg)', hbox_list)\n",
    "                add_row('host_spot_'+str(i)+'_size_'+inst, 'host spot '+str(i)+' size '+inst+' (deg)', hbox_list)\n",
    "                add_row('host_spot_'+str(i)+'_brightness_'+inst,'host spot '+str(i)+' brightness '+inst, hbox_list)\n",
    "\n",
    "# To keep the GUI simplistic, spots on companions are only available by manually editing the params.csv and settings.csv files\n",
    "#         if DROPDOWNS['planet_or_EB'].value == 'EBs':\n",
    "#             for companion in INPUT['companions_all']:\n",
    "#                 if len(DROPDOWNS[companion+'_N_spots_'+inst].value):\n",
    "#                     N_spots = int(DROPDOWNS[companion+'_N_spots_'+inst].value)\n",
    "#                     for i in range(1,N_spots+1):\n",
    "#                         add_row(companion+'_spot_'+str(i)+'_lat_'+inst, companion+' spot '+str(i)+' lat. '+inst+' (deg)', hbox_list)\n",
    "#                         add_row(companion+'_spot_'+str(i)+'_long_'+inst, companion+' spot '+str(i)+' long. '+inst+' (deg)', hbox_list)\n",
    "#                         add_row(companion+'_spot_'+str(i)+'_size_'+inst, companion+' spot '+str(i)+' size '+inst+' (deg)', hbox_list)\n",
    "#                         add_row(companion+'_spot_'+str(i)+'_brightness_'+inst, companion+' spot '+str(i)+' brightness '+inst, hbox_list)\n",
    "                        \n",
    "    if len(hbox_list)==0:\n",
    "        pass\n",
    "        #hbox_list.append(widgets.Label(value='N_spots was set to \"None\" for all objects and instruments.'))\n",
    "    vbox_list.append( widgets.VBox(hbox_list) )\n",
    "\n",
    "\n",
    "    #::: Flares\n",
    "    hbox_list = []\n",
    "    if len(DROPDOWNS['N_flares'].value):\n",
    "        N_flares = int(DROPDOWNS['N_flares'].value)\n",
    "        for i in range(1,N_flares+1):\n",
    "            add_row('flare_tpeak_'+str(i), 'Flare tpeak '+str(i), hbox_list)\n",
    "            add_row('flare_fwhm_'+str(i), 'Flare fwhm '+str(i), hbox_list)\n",
    "            add_row('flare_ampl_'+str(i), 'Flare ampl '+str(i), hbox_list)\n",
    "    vbox_list.append( widgets.VBox(hbox_list) )\n",
    "    \n",
    "    \n",
    "    #::: TTV per transit\n",
    "    hbox_list = []\n",
    "    if (DROPDOWNS['fit_ttvs'].value)=='yes':\n",
    "        for companion in INPUT['companions_all']:\n",
    "            add_row(companion+'_ttv_per_transit', 'TTV per transit', hbox_list, median=0, lerr=0.00347222, uerr=0.00347222, transform='uniform', fit_value=True)\n",
    "    vbox_list.append( widgets.VBox(hbox_list) )\n",
    "    \n",
    "        \n",
    "    #::: Errors per instrument\n",
    "    hbox_list = []\n",
    "    \n",
    "    for inst in INPUT['inst_phot']:\n",
    "        if DROPDOWNS['error_flux_'+inst].value == 'sample':\n",
    "            add_row('ln_err_flux_'+inst, 'ln err flux '+inst, hbox_list, median=-7, lerr=8, uerr=7, transform='uniform', fit_value=True)\n",
    "        else:\n",
    "            pass\n",
    "            #hbox_list.append(widgets.Label(value='Not applicable, error sampling was set to \"hybrid\".'))\n",
    "        \n",
    "    for inst in INPUT['inst_rv']:\n",
    "        if DROPDOWNS['error_rv_'+inst].value == 'sample':\n",
    "            add_row('ln_jitter_rv_'+inst, 'ln jitter rv '+inst, hbox_list, median=-3, lerr=12, uerr=3, transform='uniform', fit_value=True)\n",
    "        else:\n",
    "            pass\n",
    "            #hbox_list.append(widgets.Label(value='Not applicable, error sampling was set to \"hybrid\".'))\n",
    "            \n",
    "    vbox_list.append( widgets.VBox(hbox_list) )\n",
    "    \n",
    "    \n",
    "    #::: Baselines per instrument\n",
    "    hbox_list = []\n",
    "    for inst in INPUT['inst_all']:\n",
    "        if inst in INPUT['inst_phot']:\n",
    "            key = 'flux'\n",
    "        elif inst in INPUT['inst_rv']:\n",
    "            key = 'rv'\n",
    "            \n",
    "        if DROPDOWNS['baseline_'+key+'_'+inst].value == 'sample_GP_Matern32':\n",
    "                add_row('baseline_gp_matern32_lnsigma_'+key+'_'+inst, 'baseline gp Matern32 lnsigma '+inst, hbox_list, median=0, lerr=15, uerr=15, transform='uniform', fit_value=True)\n",
    "                add_row('baseline_gp_matern32_lnrho_'+key+'_'+inst, 'baseline gp Matern32 lnrho '+inst, hbox_list, median=0, lerr=15, uerr=15, transform='uniform', fit_value=True)\n",
    "        elif DROPDOWNS['baseline_'+key+'_'+inst].value == 'sample_GP_SHO':\n",
    "                add_row('baseline_gp_sho_lnS0_'+key+'_'+inst, 'baseline gp SHO lnS0 '+inst, hbox_list, median=0, lerr=15, uerr=15, transform='uniform', fit_value=True)\n",
    "                add_row('baseline_gp_sho_lnQ_'+key+'_'+inst, 'baseline gp SHO lnQ '+inst, hbox_list, median=0, lerr=15, uerr=15, transform='uniform', fit_value=True)\n",
    "                add_row('baseline_gp_sho_lnomega0_'+key+'_'+inst, 'baseline gp SHO lnomega0 '+inst, hbox_list, median=0, lerr=15, uerr=15, transform='uniform', fit_value=True)\n",
    "        elif DROPDOWNS['baseline_'+key+'_'+inst].value == 'sample_GP_real':\n",
    "                add_row('baseline_gp_real_lna_'+key+'_'+inst, 'baseline gp real lna '+inst, hbox_list, median=0, lerr=15, uerr=15, transform='uniform', fit_value=True)\n",
    "                add_row('baseline_gp_real_lnc_'+key+'_'+inst, 'baseline gp real lnc '+inst, hbox_list, median=0, lerr=15, uerr=15, transform='uniform', fit_value=True)\n",
    "        elif DROPDOWNS['baseline_'+key+'_'+inst].value == 'sample_GP_complex':\n",
    "                add_row('baseline_gp_complex_lna_'+key+'_'+inst, 'baseline gp complex lna '+inst, hbox_list, median=0, lerr=15, uerr=15, transform='uniform', fit_value=True)\n",
    "                add_row('baseline_gp_complex_lnc_'+key+'_'+inst, 'baseline gp complex lnc '+inst, hbox_list, median=0, lerr=15, uerr=15, transform='uniform', fit_value=True)\n",
    "                add_row('baseline_gp_complex_lnb_'+key+'_'+inst, 'baseline gp complex lnb '+inst, hbox_list, median=0, lerr=15, uerr=15, transform='uniform', fit_value=True)\n",
    "                add_row('baseline_gp_complex_lnd_'+key+'_'+inst, 'baseline gp complex lnd '+inst, hbox_list, median=0, lerr=15, uerr=15, transform='uniform', fit_value=True)\n",
    "        elif DROPDOWNS['baseline_'+key+'_'+inst].value == 'sample_offset':\n",
    "                add_row('baseline_offset_'+key+'_'+inst, 'baseline offset '+inst, hbox_list, median=0, lerr=0, uerr=0, transform='uniform', fit_value=True)\n",
    "        elif DROPDOWNS['baseline_'+key+'_'+inst].value == 'sample_linear':\n",
    "                add_row('baseline_offset_'+key+'_'+inst, 'baseline offset '+inst, hbox_list, median=0, lerr=0, uerr=0, transform='uniform', fit_value=True)\n",
    "                add_row('baseline_slope_'+key+'_'+inst, 'baseline slope '+inst, hbox_list, median=0, lerr=0, uerr=0, transform='uniform', fit_value=True)\n",
    "    \n",
    "    vbox_list.append( widgets.VBox(hbox_list) )\n",
    "    \n",
    "            \n",
    "    #::: accordion\n",
    "    accordion = widgets.Accordion(children=vbox_list)\n",
    "    accordion.set_title(0, 'Dilution')\n",
    "    accordion.set_title(1, 'Limb darkening')\n",
    "    accordion.set_title(2, 'Surface brightness ratio')\n",
    "    accordion.set_title(3, 'Geometric albedo')\n",
    "    accordion.set_title(4, 'Gravity darkening')\n",
    "    accordion.set_title(5, 'Stellar spots')\n",
    "    accordion.set_title(6, 'Flares')\n",
    "    accordion.set_title(7, 'TTVs')\n",
    "    accordion.set_title(8, 'Errors & jitter')\n",
    "    accordion.set_title(9, 'Baselines')\n",
    "    display(accordion)\n",
    "            "
   ]
  },
  {
   "cell_type": "code",
   "execution_count": 84,
   "metadata": {
    "scrolled": true
   },
   "outputs": [
    {
     "data": {
      "application/vnd.jupyter.widget-view+json": {
       "model_id": "d336e4583d134b23b07c31767bf75884",
       "version_major": 2,
       "version_minor": 0
      },
      "text/plain": [
       "HBox(children=(Button(description='Create params.csv', style=ButtonStyle()), Checkbox(value=False, description…"
      ]
     },
     "metadata": {},
     "output_type": "display_data"
    }
   ],
   "source": [
    "if 'show_step_3' in INPUT and INPUT['show_step_3'] == True:\n",
    "    \n",
    "    nan_fields = False\n",
    "    \n",
    "    button_create_params_file = widgets.Button(description='Create params.csv', button_style='')\n",
    "    checkbox_overwrite_params_file = widgets.Checkbox(description='Overwrite old params.csv (if existing)', value=False)\n",
    "    hbox_params_file = widgets.HBox([button_create_params_file, checkbox_overwrite_params_file])\n",
    "    display(hbox_params_file)\n",
    "    \n",
    "    def create_params_file(change):\n",
    "        \n",
    "        clear_output()\n",
    "        display(hbox_params_file)\n",
    "        print('Calculating... this might take a few seconds. Please be patient, you will get notified once everything is completed.')\n",
    "\n",
    "        go_ahead = True\n",
    "\n",
    "        if 'datadir' not in INPUT:\n",
    "            warnings.warn('No allesfitter woking directory selected yet. Please go back to step 1) and fill in all fields.')\n",
    "            go_ahead = False\n",
    "\n",
    "        if os.path.exists(os.path.join(INPUT['datadir'],'params.csv')) and (checkbox_overwrite_params_file.value==False):\n",
    "            warnings.warn('The selected working directory '+os.path.join(INPUT['datadir'],'params.csv')+' already exists. To proceed, give permission to overwrite it.')\n",
    "            go_ahead = False\n",
    "\n",
    "            \n",
    "        if go_ahead:\n",
    "            INPUT['fname_params'] = os.path.join(INPUT['datadir'], 'params.csv')\n",
    "            with open(INPUT['fname_params'], 'w+') as f:\n",
    "                f.write('#name,value,fit,bounds,label,unit\\n')\n",
    "\n",
    "            \n",
    "            \n",
    "            def get_median_and_error_strings(text_median, text_lerr, text_uerr):\n",
    "                if (text_median.value == ''):\n",
    "                    median = 'NaN'\n",
    "                    nan_fields = True\n",
    "                else:\n",
    "                    median = text_median.value\n",
    "                if (text_lerr.value == '') or (text_uerr.value == ''):\n",
    "                    err = 'NaN'\n",
    "                    nan_fields = True\n",
    "                else:\n",
    "                    err = str( 5.* np.max( [float(text_lerr.value), float(text_uerr.value)] ) )\n",
    "                median, err, _ = round_txt_separately( float(median), float(err), float(err) )\n",
    "                return median, err\n",
    "                 \n",
    "\n",
    "    \n",
    "            #:::: astrophysical parameters per system\n",
    "            for companion in INPUT['companions_all']:\n",
    "                fwrite_params_line('#companion '+companion+' astrophysical params,,,,,') \n",
    "                \n",
    "                #::: rr\n",
    "                fwrite_params(companion+'_rr', '$R_'+companion+' / R_\\star$', '', [0,1])\n",
    "                \n",
    "                #::: rsuma\n",
    "                if INPUT[companion+'_rsuma_input_type'].value=='(R_comp + R_host) / a':\n",
    "                    pass\n",
    "                elif INPUT[companion+'_rsuma_input_type'].value=='R_host / a':\n",
    "                    Rstar_over_a = [ float(INPUT[companion+'_rsuma_median'].value), float(INPUT[companion+'_rsuma_lerr'].value), float(INPUT[companion+'_rsuma_uerr'].value) ]\n",
    "                    Rp_over_Rstar = [ float(INPUT[companion+'_rr_median'].value), float(INPUT[companion+'_rr_lerr'].value), float(INPUT[companion+'_rr_uerr'].value) ]\n",
    "                    INPUT[companion+'_rsuma_median'].value, INPUT[companion+'_rsuma_lerr'].value, INPUT[companion+'_rsuma_uerr'].value \\\n",
    "                        = get_Rsuma_from_Rstar_over_a(Rstar_over_a, Rp_over_Rstar)\n",
    "                    INPUT[companion+'_rsuma_input_type'].value = '(R_comp + R_host) / a'\n",
    "                elif INPUT[companion+'_rsuma_input_type'].value=='a / R_host':\n",
    "                    a_over_Rstar = [ float(INPUT[companion+'_rsuma_median'].value), float(INPUT[companion+'_rsuma_lerr'].value), float(INPUT[companion+'_rsuma_uerr'].value) ]\n",
    "                    Rp_over_Rstar = [ float(INPUT[companion+'_rr_median'].value), float(INPUT[companion+'_rr_lerr'].value), float(INPUT[companion+'_rr_uerr'].value) ]\n",
    "                    INPUT[companion+'_rsuma_median'].value, INPUT[companion+'_rsuma_lerr'].value, INPUT[companion+'_rsuma_uerr'].value \\\n",
    "                        = get_Rsuma_from_a_over_Rstar(a_over_Rstar, Rp_over_Rstar)\n",
    "                    INPUT[companion+'_rsuma_input_type'].value = '(R_comp + R_host) / a'\n",
    "                else:\n",
    "                    raise ValueError('Oops, something went wrong.')\n",
    "                fwrite_params(companion+'_rsuma', '$(R_\\star + R_'+companion+') / a_'+companion+'$', '', [0,1])\n",
    "                \n",
    "                #::: cosi\n",
    "                if INPUT[companion+'_cosi_input_type'].value=='cos(i)':\n",
    "                    pass\n",
    "                elif INPUT[companion+'_cosi_input_type'].value=='i (degree)':\n",
    "                    incl = [ float(INPUT[companion+'_cosi_median'].value), float(INPUT[companion+'_cosi_lerr'].value), float(INPUT[companion+'_cosi_uerr'].value) ]\n",
    "                    INPUT[companion+'_cosi_median'].value, INPUT[companion+'_cosi_lerr'].value, INPUT[companion+'_cosi_uerr'].value \\\n",
    "                        = get_cosi_from_i(incl)\n",
    "                    INPUT[companion+'_cosi_input_type'].value = 'cos(i)'\n",
    "                elif INPUT[companion+'_cosi_input_type'].value=='i (rad)':\n",
    "                    incl = [ float(INPUT[companion+'_cosi_median'].value)/180.*np.pi, float(INPUT[companion+'_cosi_lerr'].value)/180.*np.pi, float(INPUT[companion+'_cosi_uerr'].value)/180.*np.pi ]\n",
    "                    INPUT[companion+'_cosi_median'].value, INPUT[companion+'_cosi_lerr'].value, INPUT[companion+'_cosi_uerr'].value \\\n",
    "                        = get_cosi_from_i(incl)\n",
    "                    INPUT[companion+'_cosi_input_type'].value = 'cos(i)'\n",
    "                fwrite_params(companion+'_cosi', '$\\cos{i_'+companion+'}$', '', [0,1])\n",
    "\n",
    "                #::: epoch\n",
    "                fwrite_params(companion+'_epoch', '$T_{0;'+companion+'}$', '$\\mathrm{BJD}$', [-1e12,1e12])\n",
    "\n",
    "                #::: period\n",
    "                fwrite_params(companion+'_period', '$P_'+companion+'$', '$\\mathrm{d}$', [-1e12,1e12])\n",
    "                \n",
    "                #::: RV semi-amplitude\n",
    "                if companion in INPUT['companions_rv']:\n",
    "                    fwrite_params(companion+'_K', '$K_'+companion+'$', '$\\mathrm{km/s}$', [-1e12,1e12])\n",
    "                              \n",
    "                #::: eccentricity f_c\n",
    "                fwrite_params(companion+'_f_c', '$\\sqrt{e_'+companion+'} \\cos{\\omega_'+companion+'}$', '', [-1,1])\n",
    "                              \n",
    "                #::: eccentricity f_s\n",
    "                fwrite_params(companion+'_f_s', '$\\sqrt{e_'+companion+'} \\sin{\\omega_'+companion+'}$', '', [-1,1])\n",
    "\n",
    "                \n",
    "            #::: dilution per instrument\n",
    "            if len(INPUT['inst_phot']):\n",
    "                fwrite_params_line('#dilution per instrument,,,,,')\n",
    "                for inst in INPUT['inst_phot']:\n",
    "                    fwrite_params('dil_'+inst, '$D_\\mathrm{0; '+inst+'}$', '', [0,1])\n",
    "                    #fwrite_params('dil_'+inst+',0,0,trunc_normal 0 1 0 0,$D_\\mathrm{0; '+inst+'}$,')\n",
    "\n",
    "                \n",
    "            #::: limb darkening coefficients per instrument\n",
    "            if len(INPUT['inst_phot']):\n",
    "                fwrite_params_line('#limb darkening coefficients per instrument,,,,,')     \n",
    "                for inst in INPUT['inst_phot']:\n",
    "                    \n",
    "                    #::: host\n",
    "                    if DROPDOWNS['host_ld_law_'+inst].value=='None':\n",
    "                        pass\n",
    "                    elif DROPDOWNS['host_ld_law_'+inst].value=='Linear':\n",
    "                        fwrite_params('host_ldc_q1_'+inst, '$q_{1; \\mathrm{'+inst+'}}$', '', [0,1])   \n",
    "                    elif DROPDOWNS['host_ld_law_'+inst].value=='Quadratic':\n",
    "                        fwrite_params('host_ldc_q1_'+inst, '$q_{1; \\mathrm{'+inst+'}}$', '', [0,1])     \n",
    "                        fwrite_params('host_ldc_q2_'+inst, '$q_{2; \\mathrm{'+inst+'}}$', '', [0,1])    \n",
    "                    elif DROPDOWNS['host_ld_law_'+inst].value=='Sing':\n",
    "                        fwrite_params('host_ldc_q1_'+inst, '$q_{1; \\mathrm{'+inst+'}}$', '', [0,1])     \n",
    "                        fwrite_params('host_ldc_q2_'+inst, '$q_{2; \\mathrm{'+inst+'}}$', '', [0,1])      \n",
    "                        fwrite_params('host_ldc_q3_'+inst, '$q_{3; \\mathrm{'+inst+'}}$', '', [0,1]) \n",
    "                        \n",
    "                    #::: companion (if EB)\n",
    "                    if DROPDOWNS['planet_or_EB']=='EBs':\n",
    "                        if DROPDOWNS[companion+'_ld_law_'+inst].value=='None':\n",
    "                            pass\n",
    "                        elif DROPDOWNS[companion+'_ld_law_'+inst].value=='Linear':\n",
    "                            fwrite_params(companion+'_ldc_q1_'+inst, '$q_{1; \\mathrm{'+inst+'}}$', '', [0,1])   \n",
    "                        elif DROPDOWNS[companion+'_ld_law_'+inst].value=='Quadratic':\n",
    "                            fwrite_params(companion+'_ldc_q1_'+inst, '$q_{1; \\mathrm{'+inst+'}}$', '', [0,1])     \n",
    "                            fwrite_params(companion+'_ldc_q2_'+inst, '$q_{2; \\mathrm{'+inst+'}}$', '', [0,1])    \n",
    "                        elif DROPDOWNS[companion+'_ld_law_'+inst].value=='Sing':\n",
    "                            fwrite_params(companion+'_ldc_q1_'+inst, '$q_{1; \\mathrm{'+inst+'}}$', '', [0,1])     \n",
    "                            fwrite_params(companion+'_ldc_q2_'+inst, '$q_{2; \\mathrm{'+inst+'}}$', '', [0,1])      \n",
    "                            fwrite_params(companion+'_ldc_q3_'+inst, '$q_{3; \\mathrm{'+inst+'}}$', '', [0,1])          \n",
    "            \n",
    "            \n",
    "            #::: brightness ratio per system and instrument\n",
    "            if len(INPUT['inst_all']):\n",
    "                fwrite_params_line('#surface brightness per instrument and companion,,,,,')\n",
    "                for companion in INPUT['companions_all']:\n",
    "                    for inst in INPUT['inst_all']:\n",
    "                        fwrite_params(companion+'_sbratio_'+inst, '$J_{'+companion+'; \\mathrm{'+inst+'}}$', '', [0,1])\n",
    "                    \n",
    "                    \n",
    "            #::: geometric albedo per system and instrument\n",
    "            if len(INPUT['inst_all']):\n",
    "                fwrite_params_line('#albedo per instrument and companion,,,,,')\n",
    "                for inst in INPUT['inst_all']:\n",
    "                    fwrite_params('host_geom_albedo_'+inst, '$A_{\\mathrm{geom}; host; \\mathrm{'+inst+'}}$', '', [0,1])\n",
    "                for companion in INPUT['companions_all']:\n",
    "                    for inst in INPUT['inst_all']:\n",
    "                        fwrite_params(companion+'_geom_albedo_'+inst, '$A_{\\mathrm{geom}; '+companion+'; \\mathrm{'+inst+'}}$', '', [0,1])\n",
    "\n",
    "                        \n",
    "            #::: gravity darkening per object and instrument\n",
    "            if len(INPUT['inst_all']):   \n",
    "                fwrite_params_line('#gravity darkening per instrument and companion,,,,,')\n",
    "                for inst in INPUT['inst_all']:\n",
    "                    #::: host\n",
    "                    fwrite_params('host_gdc_'+inst, '$Grav. dark._{'+companion+'; \\mathrm{'+inst+'}}$', '', [0,1])\n",
    "                    #::: companion (if EB)\n",
    "                    if DROPDOWNS['planet_or_EB']=='EBs':\n",
    "                        for companion in INPUT['companions_all']:\n",
    "                                fwrite_params(companion+'_sbratio_'+inst, '$Grav. dark._{'+companion+'; \\mathrm{'+inst+'}}$', '', [0,1])\n",
    "                \n",
    "                \n",
    "                \n",
    "            #::: spots per object and instrument\n",
    "            if len(INPUT['inst_all']):   \n",
    "                \n",
    "                fwrite_params_line('#spots per instrument and companion,,,,,')\n",
    "                \n",
    "                for inst in INPUT['inst_all']:\n",
    "                    if len(DROPDOWNS['host_N_spots_'+inst].value):\n",
    "                        N_spots = int(DROPDOWNS['host_N_spots_'+inst].value)\n",
    "                        for i in range(1,N_spots+1):\n",
    "                            #::: host\n",
    "                            fwrite_params('host_spot_'+str(i)+'_long_'+inst, '$\\mathrm{host: spot '+str(i)+' long. '+inst+'}$', '\\mathrm{deg}', [0,360])\n",
    "                            fwrite_params('host_spot_'+str(i)+'_lat_'+inst, '$\\mathrm{host: spot '+str(i)+' lat. '+inst+'}$', '\\mathrm{deg}', [-90,90])\n",
    "                            fwrite_params('host_spot_'+str(i)+'_size_'+inst, '$\\mathrm{host: spot '+str(i)+' size '+inst+'}$', '\\mathrm{deg}', [0,30])\n",
    "                            fwrite_params('host_spot_'+str(i)+'_brightness_'+inst, '$\\mathrm{host: spot '+str(i)+' brightness '+inst+'}$', '', [0,1])\n",
    "                            \n",
    "                    #::: companion (if EB)\n",
    "                    if DROPDOWNS['planet_or_EB']=='EBs':\n",
    "                        for companion in INPUT['companions_all']:\n",
    "                            if len(DROPDOWNS[companion+'_N_spots_'+inst].value):\n",
    "                                N_spots = int(DROPDOWNS[companion+'_N_spots_'+inst].value)\n",
    "                                fwrite_params(companion+'_spot_'+str(i)+'_long_'+inst, '$\\mathrm{'+companion+': spot '+str(i)+' long. '+inst+'}$', '\\mathrm{deg}', [0,360])\n",
    "                                fwrite_params(companion+'_spot_'+str(i)+'_lat_'+inst, '$\\mathrm{'+companion+': spot '+str(i)+' lat. '+inst+'}$', '\\mathrm{deg}', [-90,90])\n",
    "                                fwrite_params(companion+'_spot_'+str(i)+'_size_'+inst, '$\\mathrm{'+companion+': spot '+str(i)+' size '+inst+'}$', '\\mathrm{deg}', [0,30])\n",
    "                                fwrite_params(companion+'_spot_'+str(i)+'_brightness_'+inst, '$\\mathrm{'+companion+': spot '+str(i)+' brightness '+inst+'}$', '', [0,1])\n",
    "                \n",
    "                \n",
    "            #::: flares\n",
    "            if len(DROPDOWNS['N_flares'].value):\n",
    "                fwrite_params_line('#flares,,,,,')\n",
    "                N_flares = int(DROPDOWNS['N_flares'].value)\n",
    "                for i in range(1,N_flares+1):\n",
    "                    fwrite_params('flare_tpeak_'+str(i), '$t_\\mathrm{peak; flare '+str(i)+'}$', '$\\mathrm{BJD}$', [-1e12,1e12])\n",
    "                    fwrite_params('flare_ampl_'+str(i), '$A_\\mathrm{flare '+str(i)+'}$', '$\\mathrm{rel. flux.}$', [-1e12,1e12])\n",
    "                    fwrite_params('flare_fwhm_'+str(i), '$FWHM_\\mathrm{flare '+str(i)+'}$', '$\\mathrm{BJD}$', [-1e12,1e12])\n",
    "                    \n",
    "                    \n",
    "                    \n",
    "            #::: TTV per instrument\n",
    "            if (DROPDOWNS['fit_ttvs'].value=='yes'):\n",
    "                fwrite_params_line('#TTV per transit,,,,,')\n",
    "                warnings.warn('TTV priors in params.csv will not be set until you also complete step 4 (adding the data files).')\n",
    "            #    for inst in INPUT['inst_phot']:\n",
    "            #        fwrite_params('ttv_'+inst, '$\\mathrm{TTV_'+inst+'}$', '$\\mathrm{d}$', [-1e12,1e12])\n",
    "                    \n",
    "                \n",
    "            #::: errors and baselines - keep track of rows\n",
    "            INPUT['N_last_rows'] = 0\n",
    "            \n",
    "            \n",
    "            #::: errors per instrument\n",
    "            if any( [ 'sample' in DROPDOWNS['error_flux_'+inst].value for inst in INPUT['inst_phot'] ] ) \\\n",
    "               or any( [ 'sample' in DROPDOWNS['error_rv_'+inst].value for inst in INPUT['inst_rv'] ] ):\n",
    "                    \n",
    "                fwrite_params_line('#errors per instrument,')\n",
    "                INPUT['N_last_rows'] += 1\n",
    "\n",
    "                for inst in INPUT['inst_phot']:\n",
    "                    if 'hybrid' not in DROPDOWNS['error_flux_'+inst].value:\n",
    "                        fwrite_params('ln_err_flux_'+inst, '$\\ln{\\sigma_\\mathrm{'+inst+'}}$', '$\\ln{ \\mathrm{rel. flux.} }$', [-15,0])\n",
    "                        INPUT['N_last_rows'] += 1\n",
    "\n",
    "                for inst in INPUT['inst_rv']:\n",
    "                    if 'hybrid' not in DROPDOWNS['error_rv_'+inst].value:\n",
    "                        fwrite_params('ln_jitter_rv_'+inst, '$\\ln{\\sigma_\\mathrm{jitter; '+inst+'}}$', '$\\ln{ \\mathrm{km/s} }$', [-15,0])\n",
    "                        INPUT['N_last_rows'] += 1\n",
    "                                \n",
    "                        \n",
    "            #::: baseline\n",
    "            if any( [ 'sample' in DROPDOWNS['baseline_flux_'+inst].value for inst in INPUT['inst_phot'] ] ) \\\n",
    "               or any( [ 'sample' in DROPDOWNS['baseline_rv_'+inst].value for inst in INPUT['inst_rv'] ] ):\n",
    "                    \n",
    "                fwrite_params_line('#baseline per instrument,')\n",
    "                INPUT['N_last_rows'] += 1\n",
    "    \n",
    "                for inst in INPUT['inst_all']:\n",
    "                    if inst in INPUT['inst_phot']:\n",
    "                        key = 'flux'\n",
    "                    elif inst in INPUT['inst_rv']:\n",
    "                        key = 'rv'\n",
    "                    \n",
    "                    if DROPDOWNS['baseline_'+key+'_'+inst].value == 'sample_GP_Matern32':\n",
    "                        fwrite_params('baseline_gp_matern32_lnsigma_'+key+'_'+inst, '$\\mathrm{gp: \\ln{\\sigma} ('+inst+')}$', '', [-15,15])\n",
    "                        fwrite_params('baseline_gp_matern32_lnrho_'+key+'_'+inst, '$\\mathrm{gp: \\ln{\\\\rho} ('+inst+')}$', '', [-15,15])\n",
    "                        INPUT['N_last_rows'] += 2\n",
    "                        \n",
    "                    elif DROPDOWNS['baseline_'+key+'_'+inst].value == 'sample_GP_SHO':\n",
    "                        fwrite_params('baseline_gp_sho_lnS0_'+key+'_'+inst, '$\\mathrm{gp: \\ln{S_0} ('+inst+')}$', '', [-15,15])\n",
    "                        fwrite_params('baseline_gp_sho_lnQ_'+key+'_'+inst, '$\\mathrm{gp: \\ln{Q} ('+inst+')}$', '', [-15,15])\n",
    "                        fwrite_params('baseline_gp_sho_lnomega0_'+key+'_'+inst, '$\\mathrm{gp: \\ln{\\omega_0} ('+inst+')}$', '', [-15,15])\n",
    "                        INPUT['N_last_rows'] += 3\n",
    "\n",
    "                    elif DROPDOWNS['baseline_'+key+'_'+inst].value == 'sample_GP_real':\n",
    "                        fwrite_params('baseline_gp_real_lna_'+key+'_'+inst, '$\\mathrm{gp: \\ln{a} ('+inst+')}$', '', [-15,15])\n",
    "                        fwrite_params('baseline_gp_real_lnc_'+key+'_'+inst, '$\\mathrm{gp: \\ln{c} ('+inst+')}$', '', [-15,15])\n",
    "                        INPUT['N_last_rows'] += 2\n",
    "                        \n",
    "                    elif DROPDOWNS['baseline_'+key+'_'+inst].value == 'sample_GP_complex':\n",
    "                        fwrite_params('baseline_gp_real_lna_'+key+'_'+inst, '$\\mathrm{gp: \\ln{a} ('+inst+')}$', '', [-15,15])\n",
    "                        fwrite_params('baseline_gp_real_lnc_'+key+'_'+inst, '$\\mathrm{gp: \\ln{c} ('+inst+')}$', '', [-15,15])\n",
    "                        fwrite_params('baseline_gp_real_lnb_'+key+'_'+inst, '$\\mathrm{gp: \\ln{b} ('+inst+')}$', '', [-15,15])\n",
    "                        fwrite_params('baseline_gp_real_lnd_'+key+'_'+inst, '$\\mathrm{gp: \\ln{d} ('+inst+')}$', '', [-15,15])\n",
    "                        INPUT['N_last_rows'] += 4\n",
    "                        \n",
    "                    elif DROPDOWNS['baseline_'+key+'_'+inst].value == 'sample_offset':\n",
    "                        fwrite_params('baseline_offset_flux_'+inst, 'offset ('+inst+')', '', [-1e12,1e12])\n",
    "                        INPUT['N_last_rows'] += 1\n",
    "\n",
    "                    elif DROPDOWNS['baseline_'+key+'_'+inst].value == 'sample_linear':\n",
    "                        fwrite_params('baseline_a_flux_'+inst, 'lin. a ('+inst+')', '', [-1e12,1e12])\n",
    "                        fwrite_params('baseline_b_flux_'+inst, 'lin. b ('+inst+')', '', [-1e12,1e12])\n",
    "                        INPUT['N_last_rows'] += 2\n",
    "\n",
    "                  \n",
    "            #::: continue\n",
    "            button_create_params_file.style.button_color = 'lightgreen'  \n",
    "            print('Done.')\n",
    "            INPUT['show_step_4'] = True\n",
    "            display(Javascript('IPython.notebook.execute_cell_range(IPython.notebook.get_selected_index()+1, IPython.notebook.ncells())'))\n",
    "            \n",
    "            if nan_fields:\n",
    "                warnings.warn('You left some fields empty. These will be set NaN in params.csv. Make sure to fix this manually later.')\n",
    "               \n",
    "\n",
    "    button_create_params_file.on_click(create_params_file)"
   ]
  },
  {
   "cell_type": "code",
   "execution_count": 38,
   "metadata": {},
   "outputs": [],
   "source": [
    "e = cr.Everest(epicid=epic, campaign=5, verbose=False)\n",
    "lc = e.get_everest_lc()"
   ]
  },
  {
   "cell_type": "code",
   "execution_count": 39,
   "metadata": {},
   "outputs": [
    {
     "data": {
      "text/plain": [
       "<matplotlib.axes._subplots.AxesSubplot at 0x7fb701192750>"
      ]
     },
     "execution_count": 39,
     "metadata": {},
     "output_type": "execute_result"
    },
    {
     "data": {
      "image/png": "[encoded data removed]",
      "text/plain": [
       "<Figure size 848.5x400 with 1 Axes>"
      ]
     },
     "metadata": {},
     "output_type": "display_data"
    }
   ],
   "source": [
    "from astropy.stats import sigma_clip\n",
    "\n",
    "ax = lc.scatter(c='r')\n",
    "flat = lc.flatten()\n",
    "idx = sigma_clip(flat.flux, sigma=3).mask\n",
    "lc[~idx].scatter(ax=ax)\n",
    "# lc.remove_outliers(sigma=3).scatter(ax=ax)"
   ]
  },
  {
   "cell_type": "code",
   "execution_count": 42,
   "metadata": {},
   "outputs": [
    {
     "name": "stdout",
     "output_type": "stream",
     "text": [
      "Saved: epic1114/data/EPIC211901114_everest_c05_raw.csv\n",
      "Saved: epic1114/data/EPIC211901114_everest_c16_raw.csv\n",
      "Saved: epic1114/data/EPIC211901114_everest_c18_raw.csv\n",
      "Saved: epic1114/data/EPIC211901114_everest_c05c16c18_raw.csv\n"
     ]
    }
   ],
   "source": [
    "import pandas as pd\n",
    "import numpy as np\n",
    "from astropy.stats import sigma_clip\n",
    "\n",
    "pipeline = 'everest'\n",
    "save = True\n",
    "outdir = f'epic{str(epic)[-4:]}/data'\n",
    "output_cols = 'time flux flux_err'.split()\n",
    "remove_outliers = True\n",
    "\n",
    "lcs_dict = {}\n",
    "for n,campaign in enumerate(all_campaigns):\n",
    "    if pipeline=='everest':\n",
    "        e = cr.Everest(epicid=epic, campaign=campaign, verbose=False)\n",
    "        lc = e.get_everest_lc()\n",
    "    else:\n",
    "        e = cr.K2sff(epicid=epic, campaign=campaign, verbose=False)\n",
    "        lc = e.get_k2sff_lc()\n",
    "        lc.flux_err = np.ones_like(lc.flux)*np.nanstd(lc.flux)\n",
    "    if remove_outliers:\n",
    "        flat = lc.flatten()\n",
    "        idx = sigma_clip(flat.flux, sigma=3).mask\n",
    "        lc = lc[~idx]\n",
    "    lcs_dict[campaign] = lc\n",
    "    if save:\n",
    "        camp = str(campaign).zfill(2)\n",
    "        fp_csv = f'{outdir}/EPIC{epic}_{pipeline}_c{camp}_raw.csv'\n",
    "        raw = pd.DataFrame(np.c_[lc.time, lc.flux, lc.flux_err],\n",
    "                            columns=output_cols\n",
    "                           )\n",
    "        raw.to_csv(fp_csv, columns=output_cols,\n",
    "                                        sep=',',\n",
    "                                        header=False,\n",
    "                                        index=False)\n",
    "        print(f'Saved: {fp_csv}')\n",
    "    if n==0:\n",
    "        lcs = lc.copy()\n",
    "    else:\n",
    "        lcs = lcs.append(lc)\n",
    "        \n",
    "lcs.campaign = all_campaigns\n",
    "camps = \"c\".join([str(c).zfill(2) for c in  all_campaigns])\n",
    "\n",
    "if save:\n",
    "    fp_csv = f'{outdir}/EPIC{epic}_{pipeline}_c{camps}_raw.csv'\n",
    "    raw = pd.DataFrame(np.c_[lcs.time, lcs.flux, lcs.flux_err],\n",
    "                        columns=output_cols\n",
    "                       )\n",
    "    raw.to_csv(fp_csv, columns=output_cols,\n",
    "                                    sep=',',\n",
    "                                    header=False,\n",
    "                                    index=False)\n",
    "    print(f'Saved: {fp_csv}')"
   ]
  },
  {
   "cell_type": "markdown",
   "metadata": {},
   "source": [
    "# 4. data files\n",
    "Please put all data files into the selected directory, and click the button to confirm."
   ]
  },
  {
   "cell_type": "code",
   "execution_count": 85,
   "metadata": {},
   "outputs": [
    {
     "data": {
      "application/vnd.jupyter.widget-view+json": {
       "model_id": "6bd229acc02042c8871f672061ccb1e2",
       "version_major": 2,
       "version_minor": 0
      },
      "text/plain": [
       "Button(description='Confirm', style=ButtonStyle())"
      ]
     },
     "metadata": {},
     "output_type": "display_data"
    }
   ],
   "source": [
    "if 'show_step_4' in INPUT and INPUT['show_step_4']==True:\n",
    "\n",
    "    BUTTONS['confirm_data_files'] = widgets.Button(description='Confirm', button_style='')\n",
    "    display(BUTTONS['confirm_data_files'])\n",
    "    \n",
    "    def check_data_files(change):\n",
    "        clear_output()\n",
    "        display(BUTTONS['confirm_data_files'])\n",
    "        \n",
    "        all_data_exists = True\n",
    "        for inst in INPUT['inst_all']:\n",
    "            if not os.path.exists( os.path.join(INPUT['datadir'], inst+'.csv') ):\n",
    "                warnings.warn('Data file '+os.path.join(INPUT['datadir'], inst+'.csv')+' does not exist. Please include the data file into the directory and then repeat this step.')\n",
    "                all_data_exists = False\n",
    "        if all_data_exists:\n",
    "            BUTTONS['confirm_data_files'].style.button_color = 'lightgreen'   \n",
    "            INPUT['show_step_5'] = True\n",
    "            display(Javascript('IPython.notebook.execute_cell_range(IPython.notebook.get_selected_index()+1, IPython.notebook.ncells())'))\n",
    "    \n",
    "    BUTTONS['confirm_data_files'].on_click(check_data_files)\n",
    "    \n",
    "# else:  \n",
    "#     print('Complete previous steps first.')"
   ]
  },
  {
   "cell_type": "code",
   "execution_count": 86,
   "metadata": {},
   "outputs": [],
   "source": [
    "############################################################################\n",
    "#::: time to include those TTV lines into the folder!\n",
    "############################################################################\n",
    "\n",
    "if 'show_step_5' in INPUT and INPUT['show_step_5']==True and DROPDOWNS['fit_ttvs'].value=='yes':\n",
    "    \n",
    "    from allesfitter import config\n",
    "    config.init(INPUT['datadir'])\n",
    "    \n",
    "    new_lines = ''\n",
    "    \n",
    "    for companion in INPUT['companions_all']:\n",
    "        N_observed_transits = len(config.BASEMENT.data[companion+'_tmid_observed_transits'])\n",
    "        for i in range(N_observed_transits):\n",
    "            string = fwrite_params(companion+'_ttv_per_transit', 'TTV$_\\mathrm{'+str(i+1)+'}}$', '$\\mathrm{d}$', [-15,15], return_str=True) + '\\n'\n",
    "            string = string.replace('per_transit', 'transit_'+str(i+1))\n",
    "            new_lines += string\n",
    "        \n",
    "    with open(INPUT['fname_params'], \"r\") as f:\n",
    "        contents = f.readlines()\n",
    "        \n",
    "    for i, line in enumerate(contents):  \n",
    "        line = line.rstrip()  # remove '\\n' at end of line\n",
    "        if line == '#TTV per transit,,,,,':\n",
    "            index = i+1\n",
    "            \n",
    "    contents.insert(index, new_lines)\n",
    "\n",
    "    with open(INPUT['fname_params'], \"w\") as f:\n",
    "        contents = \"\".join(contents)\n",
    "        f.write(contents)\n",
    "        \n",
    "    print('TTVs per transit were added to params.csv.')\n",
    "    print('params.csv and settings.csv are now ready to use.')"
   ]
  },
  {
   "cell_type": "markdown",
   "metadata": {},
   "source": [
    "# 5. check"
   ]
  },
  {
   "cell_type": "code",
   "execution_count": 87,
   "metadata": {
    "scrolled": false
   },
   "outputs": [],
   "source": [
    "if 'show_step_5' in INPUT and INPUT['show_step_5']==True:\n",
    "    \n",
    "    from allesfitter.general_output import show_initial_guess\n",
    "    import matplotlib.pyplot as plt\n",
    "\n",
    "    fig_list = show_initial_guess(INPUT['datadir'], do_logprint=False, return_figs=True)\n",
    "    \n",
    "    for fig in fig_list:\n",
    "        plt.show(fig)"
   ]
  },
  {
   "cell_type": "code",
   "execution_count": 88,
   "metadata": {},
   "outputs": [],
   "source": [
    "if 'show_step_5' in INPUT and INPUT['show_step_5']==True:\n",
    "\n",
    "    BUTTONS['confirm_plots'] = widgets.Button(description='Looks good', button_style='')\n",
    "    display(BUTTONS['confirm_plots'])\n",
    "    \n",
    "    def check_plots(change):\n",
    "        clear_output()\n",
    "        display(BUTTONS['confirm_plots'])\n",
    "        BUTTONS['confirm_plots'].style.button_color = 'lightgreen'   \n",
    "        INPUT['show_step_6'] = True\n",
    "        display(Javascript('IPython.notebook.execute_cell_range(IPython.notebook.get_selected_index()+1, IPython.notebook.ncells())'))\n",
    "    \n",
    "    BUTTONS['confirm_plots'].on_click(check_plots)\n",
    "    \n",
    "# else:  \n",
    "#     print('Complete previous steps first.')"
   ]
  },
  {
   "cell_type": "markdown",
   "metadata": {},
   "source": [
    "# 6. tighter priors on errors and baselines\n",
    "This will take a couple of minutes. Make sure your initial guess above is very good. This will subtract the model from the data and evaluate the remaining noise patterns to estimate errors, jitter and GP baselines."
   ]
  },
  {
   "cell_type": "code",
   "execution_count": 89,
   "metadata": {},
   "outputs": [],
   "source": [
    "if 'show_step_6' in INPUT and INPUT['show_step_6']==True:\n",
    "\n",
    "    def estimate_tighter_priors(change):\n",
    "    \n",
    "        print('\\nEstimating errors and baselines... this will take a couple of minutes. Please be patient, you will get notified once everything is completed.\\n')\n",
    "\n",
    "        #::: run MCMC fit to estimate errors and baselines\n",
    "        estimate_noise(INPUT['datadir'])\n",
    "\n",
    "        #::: delete the rows containing the default (zero) errors and baselines from the params.csv file\n",
    "        clean_up_csv( os.path.join( INPUT['datadir'], 'params.csv' ), N_last_rows=INPUT['N_last_rows'] )\n",
    "\n",
    "\n",
    "        #::: write new rows into params.csv\n",
    "        #::: errors\n",
    "        fwrite_params_line('#errors per instrument,')\n",
    "\n",
    "        for i, inst in enumerate(INPUT['inst_phot']):         \n",
    "            #::: read in the summary file\n",
    "            summaryfile = os.path.join( INPUT['datadir'], 'priors', 'summary_phot.csv' )\n",
    "            priors2 = np.genfromtxt(summaryfile, names=True, delimiter=',', dtype=None)\n",
    "            priors = {}\n",
    "            for key in priors2.dtype.names:\n",
    "                priors[key] = np.atleast_1d(priors2[key])\n",
    "\n",
    "            median = priors['ln_yerr_median'][i]\n",
    "            err = 5.*np.max([ float(priors['ln_yerr_ll'][i]), float(priors['ln_yerr_ul'][i]) ])\n",
    "            median, err, _ = round_txt_separately(median,err,err)\n",
    "            fwrite_params_line('ln_err_flux_'+inst+','+median+',1,trunc_normal -15 0 '+median+' '+err+',$\\ln{\\sigma_\\mathrm{'+inst+'}}$,')\n",
    "\n",
    "        for i, inst in enumerate(INPUT['inst_rv']):   \n",
    "            #::: read in the summary file\n",
    "            summaryfile = os.path.join( INPUT['datadir'], 'priors', 'summary_rv.csv' )\n",
    "            priors2 = np.genfromtxt(summaryfile, names=True, delimiter=',', dtype=None)\n",
    "            priors = {}\n",
    "            for key in priors2.dtype.names:\n",
    "                priors[key] = np.atleast_1d(priors2[key])\n",
    "\n",
    "            median = priors['ln_yerr_median'][i]\n",
    "            err = 5.*np.max([ float(priors['ln_yerr_ll'][i]), float(priors['ln_yerr_ul'][i]) ])\n",
    "            median, err, _ = round_txt_separately(median,err,err)\n",
    "            fwrite_params('ln_jitter_rv_'+inst+','+median+',1,trunc_normal -15 0 '+median+' '+err+',$\\ln{\\sigma_\\mathrm{jitter; '+inst+'}}$,')\n",
    "\n",
    "\n",
    "        #::: write new rows into params.csv\n",
    "        #::: baselines\n",
    "        fwrite_params_line('#baseline per instrument,')\n",
    "\n",
    "        for i, inst in enumerate(INPUT['inst_phot']):         \n",
    "            #::: read in the summary file\n",
    "            summaryfile = os.path.join( INPUT['datadir'], 'priors', 'summary_phot.csv' )\n",
    "            priors2 = np.genfromtxt(summaryfile, names=True, delimiter=',', dtype=None)\n",
    "            priors = {}\n",
    "            for key in priors2.dtype.names:\n",
    "                priors[key] = np.atleast_1d(priors2[key])\n",
    "\n",
    "            median = priors['gp_ln_sigma_median'][i]\n",
    "            err = 5.*np.max([ float(priors['gp_ln_sigma_ll'][i]), float(priors['gp_ln_sigma_ul'][i]) ])\n",
    "            median, err, _ = round_txt_separately(median,err,err)\n",
    "            fwrite_params_line('baseline_gp1_flux_'+inst+','+median+',1,trunc_normal -15 15 '+median+' '+err+',$\\mathrm{gp: \\ln{\\sigma} ('+inst+')}$,')\n",
    "\n",
    "            median = priors['gp_ln_rho_median'][i]\n",
    "            err = 5.*np.max([ float(priors['gp_ln_rho_ll'][i]), float(priors['gp_ln_rho_ul'][i]) ])\n",
    "            median, err, _ = round_txt_separately(median,err,err)\n",
    "            fwrite_params_line('baseline_gp2_flux_'+inst+','+median+',1,trunc_normal -15 15 '+median+' '+err+',$\\mathrm{gp: \\ln{\\\\rho} ('+inst+')}$,')\n",
    "\n",
    "            \n",
    "        #::: confirm\n",
    "        BUTTONS['estimate_tighter_priors'].style.button_color = 'lightgreen'   \n",
    "        print('Done.')\n",
    "        INPUT['show_step_7'] = True\n",
    "        display(Javascript('IPython.notebook.execute_cell_range(IPython.notebook.get_selected_index()+1, IPython.notebook.ncells())'))\n",
    "    \n",
    "            \n",
    "        \n",
    "        \n",
    "    def skip(change):\n",
    "        BUTTONS['skip'].style.button_color = 'lightgreen'     \n",
    "        print('Skipped.')\n",
    "        INPUT['show_step_7'] = True\n",
    "        display(Javascript('IPython.notebook.execute_cell_range(IPython.notebook.get_selected_index()+1, IPython.notebook.ncells())'))\n",
    "    \n",
    "    \n",
    "# else:  \n",
    "#     print('Complete previous steps first.')"
   ]
  },
  {
   "cell_type": "code",
   "execution_count": 90,
   "metadata": {},
   "outputs": [],
   "source": [
    "if 'show_step_6' in INPUT and INPUT['show_step_6']==True:\n",
    "    \n",
    "    BUTTONS['estimate_tighter_priors'] = widgets.Button(value=False, description='Estimate tighter priors')\n",
    "    BUTTONS['skip'] = widgets.Button(value=False, description='Skip')\n",
    "    display( widgets.HBox([BUTTONS['estimate_tighter_priors'],BUTTONS['skip']]))\n",
    "    \n",
    "    BUTTONS['estimate_tighter_priors'].on_click(estimate_tighter_priors)\n",
    "    \n",
    "    BUTTONS['skip'].on_click(skip)"
   ]
  },
  {
   "cell_type": "markdown",
   "metadata": {},
   "source": [
    "# 7. run the fit"
   ]
  },
  {
   "cell_type": "code",
   "execution_count": 91,
   "metadata": {
    "scrolled": false
   },
   "outputs": [],
   "source": [
    "if 'show_step_7' in INPUT and INPUT['show_step_7']==True:\n",
    "    \n",
    "    try:\n",
    "        from importlib import reload\n",
    "    except:\n",
    "        pass\n",
    "    \n",
    "    try:\n",
    "        from imp import reload\n",
    "    except:\n",
    "        pass\n",
    "    \n",
    "    import allesfitter\n",
    "    reload(allesfitter)\n",
    "        \n",
    "    button_run_ns_fit = widgets.Button(description='Run NS fit', button_style='')\n",
    "    button_run_mcmc_fit = widgets.Button(description='Run MCMC fit', button_style='')\n",
    "    hbox = widgets.HBox([button_run_ns_fit, button_run_mcmc_fit])\n",
    "    display(hbox)\n",
    "    \n",
    "    def run_ns_fit(change):\n",
    "        button_run_ns_fit.style.button_color = 'lightgreen'\n",
    "        allesfitter.ns_fit(INPUT['datadir'])\n",
    "        allesfitter.ns_output(INPUT['datadir'])\n",
    "    \n",
    "    def run_mcmc_fit(change):\n",
    "        button_run_mcmc_fit.style.button_color = 'lightgreen'\n",
    "        allesfitter.mcmc_fit(INPUT['datadir'])\n",
    "        allesfitter.mcmc_output(INPUT['datadir'])\n",
    "        \n",
    "    button_run_ns_fit.on_click(run_ns_fit)\n",
    "    button_run_mcmc_fit.on_click(run_mcmc_fit)\n",
    "    \n",
    "    \n",
    "# else:\n",
    "#     print('Complete previous steps first.')"
   ]
  },
  {
   "cell_type": "code",
   "execution_count": null,
   "metadata": {},
   "outputs": [],
   "source": []
  }
 ],
 "metadata": {
  "kernelspec": {
   "display_name": "Python 3",
   "language": "python",
   "name": "python3"
  },
  "language_info": {
   "codemirror_mode": {
    "name": "ipython",
    "version": 3
   },
   "file_extension": ".py",
   "mimetype": "text/x-python",
   "name": "python",
   "nbconvert_exporter": "python",
   "pygments_lexer": "ipython3",
   "version": "3.7.6"
  },
  "toc": {
   "base_numbering": 1,
   "nav_menu": {},
   "number_sections": true,
   "sideBar": true,
   "skip_h1_title": false,
   "title_cell": "Table of Contents",
   "title_sidebar": "Contents",
   "toc_cell": false,
   "toc_position": {},
   "toc_section_display": true,
   "toc_window_display": true
  }
 },
 "nbformat": 4,
 "nbformat_minor": 2
}
